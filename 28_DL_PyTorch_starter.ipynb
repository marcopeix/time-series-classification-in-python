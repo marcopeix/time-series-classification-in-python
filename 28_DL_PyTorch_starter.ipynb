{
 "cells": [
  {
   "cell_type": "code",
   "execution_count": null,
   "id": "d27b1293-812b-4ace-9171-c02cc28e8ab6",
   "metadata": {},
   "outputs": [],
   "source": [
    "import random\n",
    "import numpy as np\n",
    "import tensorflow as tf\n",
    "\n",
    "from sklearn.metrics import classification_report\n",
    "from sklearn.model_selection import train_test_split\n",
    "\n",
    "from sktime.datasets import load_UCR_UEA_dataset\n",
    "\n",
    "import torch\n",
    "import torch.nn as nn\n",
    "from torch.utils.data import Dataset, DataLoader"
   ]
  },
  {
   "cell_type": "code",
   "execution_count": null,
   "id": "8c7f064c-27e2-4674-b8a4-01171bb6f1a6",
   "metadata": {},
   "outputs": [],
   "source": [
    "seed = 42\n",
    "random.seed(seed)\n",
    "np.random.seed(seed)\n",
    "torch.manual_seed(seed);"
   ]
  },
  {
   "cell_type": "code",
   "execution_count": null,
   "id": "9cd583a4-07f3-4e24-848f-2fa1df58e6b8",
   "metadata": {},
   "outputs": [],
   "source": [
    "X_train, y_train = load_UCR_UEA_dataset(name=\"Strawberry\",\n",
    "                                        split='train', \n",
    "                                        return_type='numpy3D',\n",
    "                                        extract_path=\"./data\")\n",
    "X_test, y_test = load_UCR_UEA_dataset(name=\"Strawberry\",\n",
    "                                      split='test', \n",
    "                                      return_type='numpy3D',\n",
    "                                      extract_path='./data')"
   ]
  },
  {
   "cell_type": "code",
   "execution_count": null,
   "id": "caae24cd-e624-440a-b242-2d415e032dfa",
   "metadata": {},
   "outputs": [],
   "source": []
  },
  {
   "cell_type": "code",
   "execution_count": null,
   "id": "79cdb8ce-4ecd-4d32-8203-6eb609b965d5",
   "metadata": {},
   "outputs": [],
   "source": []
  },
  {
   "cell_type": "code",
   "execution_count": null,
   "id": "de376cc4-0af3-456a-a551-8c4239511e5b",
   "metadata": {},
   "outputs": [],
   "source": []
  },
  {
   "cell_type": "code",
   "execution_count": null,
   "id": "3f952eae-8a0a-4dc1-be00-72e27d58e797",
   "metadata": {},
   "outputs": [],
   "source": [
    "y_train = y_train.astype(int) - 1\n",
    "y_test = y_test.astype(int) - 1"
   ]
  },
  {
   "cell_type": "code",
   "execution_count": null,
   "id": "bb50c450-d77c-486f-b14a-45c02b109322",
   "metadata": {},
   "outputs": [],
   "source": [
    "X_train_final, X_val, y_train_final, y_val = train_test_split(\n",
    "    X_train, \n",
    "    y_train,\n",
    "    test_size=0.2,\n",
    "    random_state=42\n",
    ")"
   ]
  },
  {
   "cell_type": "code",
   "execution_count": null,
   "id": "d9f60e7e-0ec7-4b5b-8653-7065026410db",
   "metadata": {},
   "outputs": [],
   "source": []
  },
  {
   "cell_type": "code",
   "execution_count": null,
   "id": "edadee44-d6ac-41df-96e8-c037509e1470",
   "metadata": {},
   "outputs": [],
   "source": [
    "device = torch.device('cuda' if torch.cuda.is_available() else 'cpu')\n",
    "print(f'Using device: {device}')"
   ]
  },
  {
   "cell_type": "code",
   "execution_count": null,
   "id": "18667eae-cb35-44cd-b77d-0822d56a369f",
   "metadata": {},
   "outputs": [],
   "source": []
  },
  {
   "cell_type": "code",
   "execution_count": null,
   "id": "607e54d1-dee2-4c0d-9fb1-705d33d8c948",
   "metadata": {
    "scrolled": true
   },
   "outputs": [],
   "source": []
  },
  {
   "cell_type": "code",
   "execution_count": null,
   "id": "207fdec7-b54e-4da7-bd78-4daecc527157",
   "metadata": {
    "scrolled": true
   },
   "outputs": [],
   "source": []
  },
  {
   "cell_type": "code",
   "execution_count": null,
   "id": "bc62c66e-4fd3-42e8-bd2d-f72262002093",
   "metadata": {},
   "outputs": [],
   "source": [
    "clf_report = classification_report(y_test, y_pred)\n",
    "\n",
    "print(clf_report)"
   ]
  },
  {
   "cell_type": "code",
   "execution_count": null,
   "id": "fd2d1a18-8d38-42d3-af50-db5476c3d923",
   "metadata": {},
   "outputs": [],
   "source": []
  }
 ],
 "metadata": {
  "kernelspec": {
   "display_name": "Python 3 (ipykernel)",
   "language": "python",
   "name": "python3"
  },
  "language_info": {
   "codemirror_mode": {
    "name": "ipython",
    "version": 3
   },
   "file_extension": ".py",
   "mimetype": "text/x-python",
   "name": "python",
   "nbconvert_exporter": "python",
   "pygments_lexer": "ipython3",
   "version": "3.10.13"
  }
 },
 "nbformat": 4,
 "nbformat_minor": 5
}
