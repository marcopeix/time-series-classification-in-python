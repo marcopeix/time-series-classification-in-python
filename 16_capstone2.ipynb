{
 "cells": [
  {
   "cell_type": "markdown",
   "id": "cc67eabb-3bcd-44a9-8625-7ee6aff6e5ec",
   "metadata": {},
   "source": [
    "# Capstone project: Classify robot failures\n",
    "### Optional challenge: read the raw data files and format them correctly to save as CSV files"
   ]
  },
  {
   "cell_type": "code",
   "execution_count": null,
   "id": "e1015d49-29d6-4fb5-834d-8d9d4e41c8c2",
   "metadata": {},
   "outputs": [],
   "source": [
    "import pandas as pd\n",
    "\n",
    "# Initialize lists to store data\n",
    "labels = []\n",
    "values = []\n",
    "all_labels = []\n",
    "\n",
    "def is_numeric_line(line):\n",
    "    try:\n",
    "        [int(num) for num in line.split()]\n",
    "        return True\n",
    "    except ValueError:\n",
    "        return False\n",
    "\n",
    "# Open the file and read through the data line by line\n",
    "with open('data/lp5.data', 'r') as file:\n",
    "    current_label = None\n",
    "    for line in file:\n",
    "        line = line.strip()\n",
    "        if line:\n",
    "            if is_numeric_line(line):\n",
    "                values.append([int(num) for num in line.split()])\n",
    "                labels.append(current_label)\n",
    "            else:\n",
    "                current_label = line.strip()\n",
    "                all_labels.append(current_label)\n",
    "\n",
    "# Create DataFrame for the numeric values\n",
    "columns = ['F_x', 'F_y', 'F_z', 'T_x', 'T_y', 'T_z']\n",
    "df = pd.DataFrame(values, columns=columns)\n",
    "\n",
    "# Add 'timestep' column\n",
    "df['timestep'] = [i % 15 + 1 for i in range(len(df))]\n",
    "\n",
    "# Add 'id' column (constant value per 15 rows)\n",
    "df['id'] = [i // 15 for i in range(len(df))]\n",
    "df = df[['id', 'timestep', 'F_x', 'F_y', 'F_z', 'T_x', 'T_y', 'T_z']]\n",
    "df.to_csv('data/lp5_X.csv', header=True, index=False)\n",
    "\n",
    "# Create DataFrame for the labels\n",
    "labels_df = pd.DataFrame(all_labels, columns=['label'])\n",
    "labels_df.to_csv('data/lp5_y.csv', header=True, index=False)\n",
    "\n",
    "# Print the DataFrames\n",
    "print(\"DataFrame with numeric values:\")\n",
    "print(df)\n",
    "print(\"\\nDataFrame with labels:\")\n",
    "print(labels_df)"
   ]
  },
  {
   "cell_type": "markdown",
   "id": "e319547d-40da-4814-8dee-06d587b43d49",
   "metadata": {},
   "source": [
    "## 1. Initial setup"
   ]
  },
  {
   "cell_type": "code",
   "execution_count": 50,
   "id": "c18acab5-e9c9-46b5-9701-5369648579b9",
   "metadata": {},
   "outputs": [],
   "source": [
    "import math\n",
    "import numpy as np\n",
    "import pandas as pd\n",
    "import matplotlib.pyplot as plt\n",
    "\n",
    "from sklearn.model_selection import train_test_split\n",
    "from sklearn.metrics import classification_report, precision_recall_fscore_support \n",
    "\n",
    "from sktime.classification.dictionary_based import WEASEL\n",
    "from sktime.classification.ensemble import BaggingClassifier\n",
    "from sktime.classification.feature_based import SummaryClassifier, Catch22Classifier\n",
    "\n",
    "from sklearn.svm import SVC\n",
    "from sklearn.neighbors import KNeighborsClassifier\n",
    "from sklearn.ensemble import RandomForestClassifier, AdaBoostClassifier\n",
    "\n",
    "from tsfresh import extract_features, select_features\n",
    "\n",
    "import warnings\n",
    "warnings.filterwarnings('ignore')"
   ]
  },
  {
   "cell_type": "markdown",
   "id": "10bfc911-fa1e-4187-80e4-c054e72515ed",
   "metadata": {},
   "source": [
    "### Read data (lp1 data)"
   ]
  },
  {
   "cell_type": "code",
   "execution_count": 51,
   "id": "2168cac6-3444-40f7-a53c-2e42bac1e2dd",
   "metadata": {},
   "outputs": [
    {
     "data": {
      "text/html": [
       "<div>\n",
       "<style scoped>\n",
       "    .dataframe tbody tr th:only-of-type {\n",
       "        vertical-align: middle;\n",
       "    }\n",
       "\n",
       "    .dataframe tbody tr th {\n",
       "        vertical-align: top;\n",
       "    }\n",
       "\n",
       "    .dataframe thead th {\n",
       "        text-align: right;\n",
       "    }\n",
       "</style>\n",
       "<table border=\"1\" class=\"dataframe\">\n",
       "  <thead>\n",
       "    <tr style=\"text-align: right;\">\n",
       "      <th></th>\n",
       "      <th>id</th>\n",
       "      <th>timestep</th>\n",
       "      <th>F_x</th>\n",
       "      <th>F_y</th>\n",
       "      <th>F_z</th>\n",
       "      <th>T_x</th>\n",
       "      <th>T_y</th>\n",
       "      <th>T_z</th>\n",
       "    </tr>\n",
       "  </thead>\n",
       "  <tbody>\n",
       "    <tr>\n",
       "      <th>0</th>\n",
       "      <td>0</td>\n",
       "      <td>1</td>\n",
       "      <td>-1</td>\n",
       "      <td>-1</td>\n",
       "      <td>63</td>\n",
       "      <td>-3</td>\n",
       "      <td>-1</td>\n",
       "      <td>0</td>\n",
       "    </tr>\n",
       "    <tr>\n",
       "      <th>1</th>\n",
       "      <td>0</td>\n",
       "      <td>2</td>\n",
       "      <td>0</td>\n",
       "      <td>0</td>\n",
       "      <td>62</td>\n",
       "      <td>-3</td>\n",
       "      <td>-1</td>\n",
       "      <td>0</td>\n",
       "    </tr>\n",
       "    <tr>\n",
       "      <th>2</th>\n",
       "      <td>0</td>\n",
       "      <td>3</td>\n",
       "      <td>-1</td>\n",
       "      <td>-1</td>\n",
       "      <td>61</td>\n",
       "      <td>-3</td>\n",
       "      <td>0</td>\n",
       "      <td>0</td>\n",
       "    </tr>\n",
       "    <tr>\n",
       "      <th>3</th>\n",
       "      <td>0</td>\n",
       "      <td>4</td>\n",
       "      <td>-1</td>\n",
       "      <td>-1</td>\n",
       "      <td>63</td>\n",
       "      <td>-2</td>\n",
       "      <td>-1</td>\n",
       "      <td>0</td>\n",
       "    </tr>\n",
       "    <tr>\n",
       "      <th>4</th>\n",
       "      <td>0</td>\n",
       "      <td>5</td>\n",
       "      <td>-1</td>\n",
       "      <td>-1</td>\n",
       "      <td>63</td>\n",
       "      <td>-3</td>\n",
       "      <td>-1</td>\n",
       "      <td>0</td>\n",
       "    </tr>\n",
       "  </tbody>\n",
       "</table>\n",
       "</div>"
      ],
      "text/plain": [
       "   id  timestep  F_x  F_y  F_z  T_x  T_y  T_z\n",
       "0   0         1   -1   -1   63   -3   -1    0\n",
       "1   0         2    0    0   62   -3   -1    0\n",
       "2   0         3   -1   -1   61   -3    0    0\n",
       "3   0         4   -1   -1   63   -2   -1    0\n",
       "4   0         5   -1   -1   63   -3   -1    0"
      ]
     },
     "execution_count": 51,
     "metadata": {},
     "output_type": "execute_result"
    }
   ],
   "source": [
    "X = pd.read_csv('data/lp1_X.csv')\n",
    "y = pd.read_csv('data/lp1_y.csv').squeeze()\n",
    "\n",
    "X.head()"
   ]
  },
  {
   "cell_type": "code",
   "execution_count": 52,
   "id": "fa70ff34-5481-4ec1-843c-284aeb994d41",
   "metadata": {},
   "outputs": [
    {
     "data": {
      "text/html": [
       "<div>\n",
       "<style scoped>\n",
       "    .dataframe tbody tr th:only-of-type {\n",
       "        vertical-align: middle;\n",
       "    }\n",
       "\n",
       "    .dataframe tbody tr th {\n",
       "        vertical-align: top;\n",
       "    }\n",
       "\n",
       "    .dataframe thead th {\n",
       "        text-align: right;\n",
       "    }\n",
       "</style>\n",
       "<table border=\"1\" class=\"dataframe\">\n",
       "  <thead>\n",
       "    <tr style=\"text-align: right;\">\n",
       "      <th></th>\n",
       "      <th></th>\n",
       "      <th>F_x</th>\n",
       "      <th>F_y</th>\n",
       "      <th>F_z</th>\n",
       "      <th>T_x</th>\n",
       "      <th>T_y</th>\n",
       "      <th>T_z</th>\n",
       "    </tr>\n",
       "    <tr>\n",
       "      <th>id</th>\n",
       "      <th>timestep</th>\n",
       "      <th></th>\n",
       "      <th></th>\n",
       "      <th></th>\n",
       "      <th></th>\n",
       "      <th></th>\n",
       "      <th></th>\n",
       "    </tr>\n",
       "  </thead>\n",
       "  <tbody>\n",
       "    <tr>\n",
       "      <th rowspan=\"5\" valign=\"top\">0</th>\n",
       "      <th>1</th>\n",
       "      <td>-1</td>\n",
       "      <td>-1</td>\n",
       "      <td>63</td>\n",
       "      <td>-3</td>\n",
       "      <td>-1</td>\n",
       "      <td>0</td>\n",
       "    </tr>\n",
       "    <tr>\n",
       "      <th>2</th>\n",
       "      <td>0</td>\n",
       "      <td>0</td>\n",
       "      <td>62</td>\n",
       "      <td>-3</td>\n",
       "      <td>-1</td>\n",
       "      <td>0</td>\n",
       "    </tr>\n",
       "    <tr>\n",
       "      <th>3</th>\n",
       "      <td>-1</td>\n",
       "      <td>-1</td>\n",
       "      <td>61</td>\n",
       "      <td>-3</td>\n",
       "      <td>0</td>\n",
       "      <td>0</td>\n",
       "    </tr>\n",
       "    <tr>\n",
       "      <th>4</th>\n",
       "      <td>-1</td>\n",
       "      <td>-1</td>\n",
       "      <td>63</td>\n",
       "      <td>-2</td>\n",
       "      <td>-1</td>\n",
       "      <td>0</td>\n",
       "    </tr>\n",
       "    <tr>\n",
       "      <th>5</th>\n",
       "      <td>-1</td>\n",
       "      <td>-1</td>\n",
       "      <td>63</td>\n",
       "      <td>-3</td>\n",
       "      <td>-1</td>\n",
       "      <td>0</td>\n",
       "    </tr>\n",
       "  </tbody>\n",
       "</table>\n",
       "</div>"
      ],
      "text/plain": [
       "             F_x  F_y  F_z  T_x  T_y  T_z\n",
       "id timestep                              \n",
       "0  1          -1   -1   63   -3   -1    0\n",
       "   2           0    0   62   -3   -1    0\n",
       "   3          -1   -1   61   -3    0    0\n",
       "   4          -1   -1   63   -2   -1    0\n",
       "   5          -1   -1   63   -3   -1    0"
      ]
     },
     "execution_count": 52,
     "metadata": {},
     "output_type": "execute_result"
    }
   ],
   "source": [
    "X = X.set_index(['id', 'timestep'])\n",
    "X.head()"
   ]
  },
  {
   "cell_type": "code",
   "execution_count": 53,
   "id": "16b5af67-c01c-4793-bd19-1d79732fa19b",
   "metadata": {},
   "outputs": [
    {
     "data": {
      "text/plain": [
       "label\n",
       "obstruction     34\n",
       "normal          21\n",
       "collision       17\n",
       "fr_collision    16\n",
       "Name: count, dtype: int64"
      ]
     },
     "execution_count": 53,
     "metadata": {},
     "output_type": "execute_result"
    }
   ],
   "source": [
    "y.value_counts()"
   ]
  },
  {
   "cell_type": "markdown",
   "id": "49017be7-25d7-4346-a471-27d2912f2c41",
   "metadata": {},
   "source": [
    "### Train/test split"
   ]
  },
  {
   "cell_type": "code",
   "execution_count": 54,
   "id": "9ba9f310-b205-49b0-aea8-8c6ab84bdf22",
   "metadata": {},
   "outputs": [],
   "source": [
    "obstruction_indices = y.loc[y == 'obstruction'].index\n",
    "normal_indices = y.loc[y == 'normal'].index\n",
    "collision_indices = y.loc[y == 'collision'].index\n",
    "fr_collision_indices = y.loc[y == 'fr_collision'].index"
   ]
  },
  {
   "cell_type": "code",
   "execution_count": 55,
   "id": "7464da97-377f-4577-b514-f91b943460b1",
   "metadata": {},
   "outputs": [
    {
     "name": "stdout",
     "output_type": "stream",
     "text": [
      "Index([35, 36, 37, 38, 39, 41, 43, 44, 45, 46, 47, 48, 49, 50, 51, 53, 57,  0,\n",
      "        1,  2,  3,  4,  5,  6,  7,  8,  9, 18, 19, 20, 21, 22, 23, 24, 25, 52,\n",
      "       54, 55, 56, 58, 62, 68, 69],\n",
      "      dtype='int64')\n",
      "Index([59, 60, 61, 63, 64, 65, 66, 70, 72, 73, 75, 77, 78, 80, 83, 85, 86, 10,\n",
      "       11, 12, 13, 14, 15, 16, 17, 40, 42, 67, 26, 27, 28, 29, 30, 31, 32, 33,\n",
      "       34, 71, 74, 76, 79, 81, 82, 84, 87],\n",
      "      dtype='int64')\n"
     ]
    }
   ],
   "source": [
    "split_idx = math.floor(len(obstruction_indices)/2)\n",
    "train_obst_idx = pd.Index(obstruction_indices.tolist()[:split_idx])\n",
    "test_obst_idx = pd.Index(obstruction_indices.tolist()[split_idx:])\n",
    "\n",
    "split_idx = math.floor(len(normal_indices)/2)\n",
    "train_normal_idx = pd.Index(normal_indices.tolist()[:split_idx])\n",
    "test_normal_idx = pd.Index(normal_indices.tolist()[split_idx:])\n",
    "\n",
    "split_idx = math.floor(len(collision_indices)/2)\n",
    "train_col_idx = pd.Index(collision_indices.tolist()[:split_idx])\n",
    "test_col_idx = pd.Index(collision_indices.tolist()[split_idx:])\n",
    "\n",
    "split_idx = math.floor(len(fr_collision_indices)/2)\n",
    "train_frcol_idx = pd.Index(fr_collision_indices.tolist()[:split_idx])\n",
    "test_frcol_idx = pd.Index(fr_collision_indices.tolist()[split_idx:])\n",
    "\n",
    "train_index = pd.Index(pd.concat([pd.Series(idx) for idx in [train_obst_idx, train_normal_idx, train_col_idx, train_frcol_idx]]))\n",
    "test_index = pd.Index(pd.concat([pd.Series(idx) for idx in [test_obst_idx, test_normal_idx, test_col_idx, test_frcol_idx]]))\n",
    "\n",
    "print(train_index)\n",
    "print(test_index)"
   ]
  },
  {
   "cell_type": "code",
   "execution_count": 56,
   "id": "caa70a31-0787-4698-b8af-3db26b0c5ab9",
   "metadata": {},
   "outputs": [],
   "source": [
    "X_train, y_train = X.loc[train_index], y.iloc[train_index]\n",
    "X_test, y_test = X.loc[test_index], y.iloc[test_index]"
   ]
  },
  {
   "cell_type": "markdown",
   "id": "b3e3d880-31e4-45d7-bffd-2b42d8f9fb69",
   "metadata": {},
   "source": [
    "## 2. Modeling"
   ]
  },
  {
   "cell_type": "code",
   "execution_count": 57,
   "id": "8906a657-1494-4838-b032-0b1b2da4935f",
   "metadata": {},
   "outputs": [],
   "source": [
    "label_mapping = {\n",
    "    'obstruction': 0,\n",
    "    'normal': 1,\n",
    "    'collision': 2,\n",
    "    'fr_collision': 3\n",
    "}\n",
    "\n",
    "y_train = y_train.map(label_mapping)\n",
    "y_test = y_test.map(label_mapping)"
   ]
  },
  {
   "cell_type": "markdown",
   "id": "dd2515b3-1651-440f-a261-b21e810064ab",
   "metadata": {},
   "source": [
    "### Bagging"
   ]
  },
  {
   "cell_type": "code",
   "execution_count": 58,
   "id": "9a3d1955-f7cd-47ea-807e-4004102b8da6",
   "metadata": {},
   "outputs": [
    {
     "name": "stdout",
     "output_type": "stream",
     "text": [
      "              precision    recall  f1-score   support\n",
      "\n",
      "           0       0.46      0.71      0.56        17\n",
      "           1       0.82      0.82      0.82        11\n",
      "           2       1.00      0.11      0.20         9\n",
      "           3       0.29      0.25      0.27         8\n",
      "\n",
      "    accuracy                           0.53        45\n",
      "   macro avg       0.64      0.47      0.46        45\n",
      "weighted avg       0.63      0.53      0.50        45\n",
      "\n"
     ]
    }
   ],
   "source": [
    "base_clf = WEASEL(alphabet_size=3,support_probabilities=True, random_state=42)\n",
    "\n",
    "clf = BaggingClassifier(base_clf, n_estimators=6, n_features=1, random_state=42)\n",
    "\n",
    "clf.fit(X_train, y_train)\n",
    "\n",
    "y_pred = clf.predict(X_test)\n",
    "\n",
    "clf_report = classification_report(y_test, y_pred)\n",
    "\n",
    "precision_bagging, recall_bagging, fscore_bagging, _ = precision_recall_fscore_support(y_test, y_pred, average='weighted')\n",
    "\n",
    "print(clf_report)"
   ]
  },
  {
   "cell_type": "markdown",
   "id": "16909df1-de85-44e5-bdd4-503023eab0fd",
   "metadata": {},
   "source": [
    "### Summary classifier"
   ]
  },
  {
   "cell_type": "code",
   "execution_count": 59,
   "id": "1e5f2065-8450-4bcd-b375-8d61447763b8",
   "metadata": {},
   "outputs": [
    {
     "name": "stdout",
     "output_type": "stream",
     "text": [
      "Precision 0.7805982905982906 \n",
      "Recall: 0.6222222222222222 \n",
      "F1-Score: 0.6196712487035068 \n",
      "===================\n",
      "Precision 0.6914529914529914 \n",
      "Recall: 0.6222222222222222 \n",
      "F1-Score: 0.5890793650793651 \n",
      "===================\n",
      "Precision 0.8459259259259259 \n",
      "Recall: 0.7333333333333333 \n",
      "F1-Score: 0.7297517297517297 \n",
      "===================\n",
      "Precision 0.45045045045045046 \n",
      "Recall: 0.4222222222222222 \n",
      "F1-Score: 0.3538148148148148 \n",
      "===================\n"
     ]
    }
   ],
   "source": [
    "knn_clf = KNeighborsClassifier(n_neighbors=1)\n",
    "ada_clf = AdaBoostClassifier(n_estimators=10, random_state=42)\n",
    "rf_clf = RandomForestClassifier(n_estimators=10, random_state=42)\n",
    "svc_clf = SVC()\n",
    "\n",
    "classifiers = [knn_clf, ada_clf, rf_clf, svc_clf]\n",
    "\n",
    "for classifier in classifiers:\n",
    "    clf = SummaryClassifier(\n",
    "        summary_functions=(\"mean\", \"min\", \"max\", \"median\", \"sum\", \"skew\", \"kurt\", \"var\", \"std\", \"mad\", \"sem\", \"nunique\", \"count\"),\n",
    "        estimator=classifier,\n",
    "        n_jobs=-1,\n",
    "        random_state=42\n",
    "    )\n",
    "    \n",
    "    clf.fit(X_train, y_train)\n",
    "    \n",
    "    y_pred = clf.predict(X_test)\n",
    "    \n",
    "    precision, recall, fscore, _ = precision_recall_fscore_support(y_test, y_pred, average='weighted')\n",
    "    \n",
    "    print(f\"Precision {precision} \\nRecall: {recall} \\nF1-Score: {fscore} \\n===================\")"
   ]
  },
  {
   "cell_type": "markdown",
   "id": "8a41a54a-030d-4436-8a08-52f0932900cc",
   "metadata": {},
   "source": [
    "Here, random forest achieves the best result, with a precision of 0.85, recall of 0.73 and F1-Score of 0.73."
   ]
  },
  {
   "cell_type": "markdown",
   "id": "6ee59ab7-4d62-4f1a-8b2d-0b35f0b0cfb2",
   "metadata": {},
   "source": [
    "### TSFresh"
   ]
  },
  {
   "cell_type": "code",
   "execution_count": 60,
   "id": "2e14406c-bf14-4c37-b94a-b8a15064fea1",
   "metadata": {},
   "outputs": [],
   "source": [
    "X = pd.read_csv('data/lp1_X.csv')\n",
    "y = pd.read_csv('data/lp1_y.csv').squeeze()"
   ]
  },
  {
   "cell_type": "code",
   "execution_count": 61,
   "id": "42e0b801-2b9b-49d4-840b-0dbb22f5bb36",
   "metadata": {},
   "outputs": [
    {
     "name": "stderr",
     "output_type": "stream",
     "text": [
      "Feature Extraction: 100%|██████████████████████████████████████████████████████████████| 30/30 [00:05<00:00,  5.65it/s]\n"
     ]
    },
    {
     "name": "stdout",
     "output_type": "stream",
     "text": [
      "Precision 0.8751262626262627 \n",
      "Recall: 0.8222222222222222 \n",
      "F1-Score: 0.8131801181414461 \n",
      "===================\n",
      "Precision 0.8438095238095239 \n",
      "Recall: 0.7333333333333333 \n",
      "F1-Score: 0.7091986113725244 \n",
      "===================\n",
      "Precision 0.8161236424394319 \n",
      "Recall: 0.6666666666666666 \n",
      "F1-Score: 0.642178077066966 \n",
      "===================\n",
      "Precision 0.14271604938271606 \n",
      "Recall: 0.37777777777777777 \n",
      "F1-Score: 0.207168458781362 \n",
      "===================\n"
     ]
    }
   ],
   "source": [
    "X_feat = extract_features(X, column_id='id', column_sort='timestep')\n",
    "X_feat = X_feat.dropna(axis=1)\n",
    "\n",
    "X_train, y_train = X_feat.iloc[train_index], y.iloc[train_index]\n",
    "X_test, y_test = X_feat.iloc[test_index], y.iloc[test_index]\n",
    "\n",
    "# X_train, X_test, y_train, y_test = train_test_split(X_feat, y, test_size=0.5, stratify=y)\n",
    "\n",
    "X_train_filtered = select_features(X_train, y_train, multiclass=True, n_significant=1)\n",
    "X_test_filtered = X_test[X_train_filtered.columns]\n",
    "\n",
    "classifiers = [knn_clf, ada_clf, rf_clf, svc_clf]\n",
    "\n",
    "for classifier in classifiers:\n",
    "       \n",
    "    classifier.fit(X_train_filtered, y_train)\n",
    "    \n",
    "    y_pred = classifier.predict(X_test_filtered)\n",
    "    \n",
    "    precision, recall, fscore, _ = precision_recall_fscore_support(y_test, y_pred, average='weighted')\n",
    "    \n",
    "    print(f\"Precision {precision} \\nRecall: {recall} \\nF1-Score: {fscore} \\n===================\")\n"
   ]
  },
  {
   "cell_type": "markdown",
   "id": "d047ec00-ce0e-4167-8bea-4bbfde506288",
   "metadata": {},
   "source": [
    "## 3. Evaluation"
   ]
  },
  {
   "cell_type": "code",
   "execution_count": 62,
   "id": "7159e5cd-6ce3-4cda-ab14-7b8f7d1ae6a0",
   "metadata": {},
   "outputs": [
    {
     "data": {
      "image/png": "[encoded data removed]",
      "text/plain": [
       "<Figure size 640x480 with 1 Axes>"
      ]
     },
     "metadata": {},
     "output_type": "display_data"
    }
   ],
   "source": [
    "x = ['Bagging (WEASEL)', 'Summary (Random forest)', 'TSFresh (Random forest)']\n",
    "y = [0.50, 0.73, 0.81]\n",
    "\n",
    "fig, ax = plt.subplots()\n",
    "ax.bar(x, y)\n",
    "ax.set_xlabel('Model')\n",
    "ax.set_ylabel('F1-Score (weighted)')\n",
    "ax.set_ylim(0, 1)\n",
    "\n",
    "for i, v in enumerate(y):\n",
    "    ax.text(x=i, y=v+0.05, s=str(v), ha='center')\n",
    "\n",
    "plt.tight_layout()"
   ]
  },
  {
   "cell_type": "code",
   "execution_count": null,
   "id": "95c1fe75-1389-4f87-980c-a4cb85658f79",
   "metadata": {},
   "outputs": [],
   "source": []
  }
 ],
 "metadata": {
  "kernelspec": {
   "display_name": "Python 3 (ipykernel)",
   "language": "python",
   "name": "python3"
  },
  "language_info": {
   "codemirror_mode": {
    "name": "ipython",
    "version": 3
   },
   "file_extension": ".py",
   "mimetype": "text/x-python",
   "name": "python",
   "nbconvert_exporter": "python",
   "pygments_lexer": "ipython3",
   "version": "3.10.13"
  }
 },
 "nbformat": 4,
 "nbformat_minor": 5
}
