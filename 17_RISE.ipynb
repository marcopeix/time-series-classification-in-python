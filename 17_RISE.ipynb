{
 "cells": [
  {
   "cell_type": "code",
   "execution_count": 51,
   "id": "3b39f120-de44-4d8a-b2cc-5e2152139367",
   "metadata": {},
   "outputs": [],
   "source": [
    "import math\n",
    "import numpy as np\n",
    "import pandas as pd\n",
    "import matplotlib.pyplot as plt\n",
    "\n",
    "from sktime.classification.interval_based import RandomIntervalSpectralEnsemble\n",
    "\n",
    "from sklearn.metrics import classification_report, precision_recall_fscore_support \n",
    "from sklearn.model_selection import GridSearchCV, KFold\n",
    "\n",
    "import warnings\n",
    "warnings.filterwarnings('ignore')"
   ]
  },
  {
   "cell_type": "code",
   "execution_count": 52,
   "id": "16e1e048-fc9d-4dad-8c66-a9791bd39198",
   "metadata": {},
   "outputs": [
    {
     "data": {
      "text/html": [
       "<div>\n",
       "<style scoped>\n",
       "    .dataframe tbody tr th:only-of-type {\n",
       "        vertical-align: middle;\n",
       "    }\n",
       "\n",
       "    .dataframe tbody tr th {\n",
       "        vertical-align: top;\n",
       "    }\n",
       "\n",
       "    .dataframe thead th {\n",
       "        text-align: right;\n",
       "    }\n",
       "</style>\n",
       "<table border=\"1\" class=\"dataframe\">\n",
       "  <thead>\n",
       "    <tr style=\"text-align: right;\">\n",
       "      <th></th>\n",
       "      <th>id</th>\n",
       "      <th>timestep</th>\n",
       "      <th>F_x</th>\n",
       "      <th>F_y</th>\n",
       "      <th>F_z</th>\n",
       "      <th>T_x</th>\n",
       "      <th>T_y</th>\n",
       "      <th>T_z</th>\n",
       "    </tr>\n",
       "  </thead>\n",
       "  <tbody>\n",
       "    <tr>\n",
       "      <th>0</th>\n",
       "      <td>0</td>\n",
       "      <td>1</td>\n",
       "      <td>-2</td>\n",
       "      <td>-1</td>\n",
       "      <td>81</td>\n",
       "      <td>0</td>\n",
       "      <td>-5</td>\n",
       "      <td>0</td>\n",
       "    </tr>\n",
       "    <tr>\n",
       "      <th>1</th>\n",
       "      <td>0</td>\n",
       "      <td>2</td>\n",
       "      <td>-2</td>\n",
       "      <td>-1</td>\n",
       "      <td>79</td>\n",
       "      <td>0</td>\n",
       "      <td>-4</td>\n",
       "      <td>0</td>\n",
       "    </tr>\n",
       "    <tr>\n",
       "      <th>2</th>\n",
       "      <td>0</td>\n",
       "      <td>3</td>\n",
       "      <td>-2</td>\n",
       "      <td>-1</td>\n",
       "      <td>79</td>\n",
       "      <td>0</td>\n",
       "      <td>-4</td>\n",
       "      <td>0</td>\n",
       "    </tr>\n",
       "    <tr>\n",
       "      <th>3</th>\n",
       "      <td>0</td>\n",
       "      <td>4</td>\n",
       "      <td>-2</td>\n",
       "      <td>-1</td>\n",
       "      <td>80</td>\n",
       "      <td>0</td>\n",
       "      <td>-4</td>\n",
       "      <td>0</td>\n",
       "    </tr>\n",
       "    <tr>\n",
       "      <th>4</th>\n",
       "      <td>0</td>\n",
       "      <td>5</td>\n",
       "      <td>-3</td>\n",
       "      <td>-1</td>\n",
       "      <td>79</td>\n",
       "      <td>1</td>\n",
       "      <td>-5</td>\n",
       "      <td>1</td>\n",
       "    </tr>\n",
       "  </tbody>\n",
       "</table>\n",
       "</div>"
      ],
      "text/plain": [
       "   id  timestep  F_x  F_y  F_z  T_x  T_y  T_z\n",
       "0   0         1   -2   -1   81    0   -5    0\n",
       "1   0         2   -2   -1   79    0   -4    0\n",
       "2   0         3   -2   -1   79    0   -4    0\n",
       "3   0         4   -2   -1   80    0   -4    0\n",
       "4   0         5   -3   -1   79    1   -5    1"
      ]
     },
     "execution_count": 52,
     "metadata": {},
     "output_type": "execute_result"
    }
   ],
   "source": [
    "X = pd.read_csv('data/lp2_X.csv')\n",
    "y = pd.read_csv('data/lp2_y.csv').squeeze()\n",
    "\n",
    "X.head()"
   ]
  },
  {
   "cell_type": "code",
   "execution_count": 53,
   "id": "57499c89-0e01-4c80-872b-7ec15e9bb57c",
   "metadata": {},
   "outputs": [],
   "source": [
    "y = y.apply(lambda x: 1 if x == \"normal\" else 0)"
   ]
  },
  {
   "cell_type": "code",
   "execution_count": 54,
   "id": "7c5217c9-4a32-4f27-b61c-635deddf05d2",
   "metadata": {},
   "outputs": [],
   "source": [
    "X = X.set_index(['id', 'timestep'])"
   ]
  },
  {
   "cell_type": "code",
   "execution_count": 55,
   "id": "08a486c0-2f70-4623-8bfe-dfbc859d26bd",
   "metadata": {},
   "outputs": [
    {
     "data": {
      "text/plain": [
       "label\n",
       "0    27\n",
       "1    20\n",
       "Name: count, dtype: int64"
      ]
     },
     "execution_count": 55,
     "metadata": {},
     "output_type": "execute_result"
    }
   ],
   "source": [
    "y.value_counts()"
   ]
  },
  {
   "cell_type": "code",
   "execution_count": 56,
   "id": "09bb82ed-9647-4274-9630-ea9731194423",
   "metadata": {},
   "outputs": [],
   "source": [
    "normal_indices = y.loc[y == 1].index\n",
    "collision_indices = y.loc[y == 0].index\n",
    "\n",
    "split_idx = math.floor(len(normal_indices)/2)\n",
    "train_normal_idx = pd.Index(normal_indices.tolist()[:split_idx])\n",
    "test_normal_idx = pd.Index(normal_indices.tolist()[split_idx:])\n",
    "\n",
    "split_idx = math.floor(len(collision_indices)/2)\n",
    "train_col_idx = pd.Index(collision_indices.tolist()[:split_idx])\n",
    "test_col_idx = pd.Index(collision_indices.tolist()[split_idx:])\n",
    "\n",
    "train_index = pd.Index(pd.concat([pd.Series(idx) for idx in [train_normal_idx, train_col_idx]]))\n",
    "test_index = pd.Index(pd.concat([pd.Series(idx) for idx in [test_normal_idx, test_col_idx]]))"
   ]
  },
  {
   "cell_type": "code",
   "execution_count": 57,
   "id": "7fcaa379-90bf-4118-ad0e-4c10d5747ff7",
   "metadata": {},
   "outputs": [],
   "source": [
    "X_train, y_train = X.loc[train_index], y.iloc[train_index]\n",
    "X_test, y_test = X.loc[test_index], y.iloc[test_index]"
   ]
  },
  {
   "cell_type": "markdown",
   "id": "c3cc75e2-f523-4858-9e72-10f114c906ee",
   "metadata": {},
   "source": [
    "## Random Interval Spectral Ensemble (RISE)"
   ]
  },
  {
   "cell_type": "code",
   "execution_count": 64,
   "id": "aff906e7-d3b3-4aac-bd2f-7cf359821cc8",
   "metadata": {},
   "outputs": [
    {
     "name": "stdout",
     "output_type": "stream",
     "text": [
      "F_x: 0.0066\n",
      "F_y: 0.0042\n",
      "F_z: 0.0026\n",
      "T_x: 0.0035\n",
      "T_y: 0.0034\n",
      "T_z: 0.0028\n"
     ]
    }
   ],
   "source": [
    "from sklearn.preprocessing import MinMaxScaler\n",
    "\n",
    "scaler = MinMaxScaler()\n",
    "scaled_X_train = scaler.fit_transform(X_train)\n",
    "\n",
    "var_array = scaled_X_train.var(axis=0)\n",
    "\n",
    "variance_dict = dict(zip(X_train.columns, var_array))\n",
    "\n",
    "for column, variance in variance_dict.items():\n",
    "    print(f\"{column}: {variance:.4f}\")"
   ]
  },
  {
   "cell_type": "code",
   "execution_count": 65,
   "id": "950a4719-cd6d-461b-a361-0890f283bc7f",
   "metadata": {},
   "outputs": [
    {
     "name": "stdout",
     "output_type": "stream",
     "text": [
      "              precision    recall  f1-score   support\n",
      "\n",
      "           0       0.93      1.00      0.97        14\n",
      "           1       1.00      0.90      0.95        10\n",
      "\n",
      "    accuracy                           0.96        24\n",
      "   macro avg       0.97      0.95      0.96        24\n",
      "weighted avg       0.96      0.96      0.96        24\n",
      "\n"
     ]
    }
   ],
   "source": [
    "rise = RandomIntervalSpectralEnsemble(\n",
    "    n_estimators=200,\n",
    "    min_interval=10,\n",
    "    acf_lag=15,\n",
    "    acf_min_values=5,\n",
    "    n_jobs=-1,\n",
    "    random_state=42\n",
    ")\n",
    "\n",
    "uni_X_train = X_train[['F_x']]\n",
    "uni_X_test = X_test[['F_x']]\n",
    "\n",
    "rise.fit(uni_X_train, y_train)\n",
    "y_pred = rise.predict(uni_X_test)\n",
    "\n",
    "clf_report = classification_report(y_test, y_pred)\n",
    "\n",
    "precision, recall, fscore, _ = precision_recall_fscore_support(y_test, y_pred, average='weighted')\n",
    "\n",
    "print(clf_report)"
   ]
  },
  {
   "cell_type": "code",
   "execution_count": null,
   "id": "77331e6d-2ec2-4e07-b9c3-14b695faf113",
   "metadata": {},
   "outputs": [],
   "source": []
  }
 ],
 "metadata": {
  "kernelspec": {
   "display_name": "Python 3 (ipykernel)",
   "language": "python",
   "name": "python3"
  },
  "language_info": {
   "codemirror_mode": {
    "name": "ipython",
    "version": 3
   },
   "file_extension": ".py",
   "mimetype": "text/x-python",
   "name": "python",
   "nbconvert_exporter": "python",
   "pygments_lexer": "ipython3",
   "version": "3.10.13"
  }
 },
 "nbformat": 4,
 "nbformat_minor": 5
}
