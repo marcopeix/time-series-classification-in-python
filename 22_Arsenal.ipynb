{
 "cells": [
  {
   "cell_type": "code",
   "execution_count": 1,
   "id": "6819115f-76d2-4746-a10d-aa461093555b",
   "metadata": {},
   "outputs": [],
   "source": [
    "import math\n",
    "import numpy as np\n",
    "import pandas as pd\n",
    "import matplotlib.pyplot as plt\n",
    "\n",
    "from sktime.datasets import load_UCR_UEA_dataset\n",
    "\n",
    "from sktime.classification.kernel_based import Arsenal\n",
    "\n",
    "from sklearn.metrics import classification_report, precision_recall_fscore_support \n",
    "from sklearn.model_selection import GridSearchCV, KFold\n",
    "\n",
    "import warnings\n",
    "warnings.filterwarnings('ignore')"
   ]
  },
  {
   "cell_type": "code",
   "execution_count": 2,
   "id": "f6f6e51d-a4ea-49d0-8e2b-6c84007b816f",
   "metadata": {},
   "outputs": [],
   "source": [
    "X_train, y_train = load_UCR_UEA_dataset(name=\"ArticularyWordRecognition\",\n",
    "                                        split='train', \n",
    "                                        return_type='numpy3D',\n",
    "                                        extract_path=\"./data\")\n",
    "X_test, y_test = load_UCR_UEA_dataset(name=\"ArticularyWordRecognition\",\n",
    "                                      split='test', \n",
    "                                      return_type='numpy3D',\n",
    "                                      extract_path='./data')"
   ]
  },
  {
   "cell_type": "code",
   "execution_count": 3,
   "id": "54c7cbea-7d95-473b-a7c6-187ffa6ea6c4",
   "metadata": {},
   "outputs": [
    {
     "name": "stdout",
     "output_type": "stream",
     "text": [
      "(275, 9, 144) (275,)\n",
      "(300, 9, 144) (300,)\n"
     ]
    }
   ],
   "source": [
    "print(X_train.shape, y_train.shape)\n",
    "print(X_test.shape, y_test.shape)"
   ]
  },
  {
   "cell_type": "markdown",
   "id": "703b498a-079a-45a8-833b-54d29a2fff09",
   "metadata": {},
   "source": [
    "## Arsenal"
   ]
  },
  {
   "cell_type": "code",
   "execution_count": 4,
   "id": "b32ff688-888b-4782-b103-dcd7ce7218c9",
   "metadata": {},
   "outputs": [
    {
     "name": "stdout",
     "output_type": "stream",
     "text": [
      "              precision    recall  f1-score   support\n",
      "\n",
      "         1.0       1.00      0.92      0.96        12\n",
      "        10.0       0.92      1.00      0.96        12\n",
      "        11.0       1.00      1.00      1.00        12\n",
      "        12.0       0.92      1.00      0.96        12\n",
      "        13.0       1.00      1.00      1.00        12\n",
      "        14.0       1.00      1.00      1.00        12\n",
      "        15.0       1.00      1.00      1.00        12\n",
      "        16.0       1.00      1.00      1.00        12\n",
      "        17.0       1.00      1.00      1.00        12\n",
      "        18.0       1.00      1.00      1.00        12\n",
      "        19.0       1.00      1.00      1.00        12\n",
      "         2.0       1.00      1.00      1.00        12\n",
      "        20.0       1.00      1.00      1.00        12\n",
      "        21.0       1.00      1.00      1.00        12\n",
      "        22.0       1.00      1.00      1.00        12\n",
      "        23.0       1.00      1.00      1.00        12\n",
      "        24.0       1.00      1.00      1.00        12\n",
      "        25.0       1.00      1.00      1.00        12\n",
      "         3.0       1.00      1.00      1.00        12\n",
      "         4.0       1.00      1.00      1.00        12\n",
      "         5.0       1.00      1.00      1.00        12\n",
      "         6.0       1.00      1.00      1.00        12\n",
      "         7.0       1.00      1.00      1.00        12\n",
      "         8.0       1.00      1.00      1.00        12\n",
      "         9.0       1.00      0.92      0.96        12\n",
      "\n",
      "    accuracy                           0.99       300\n",
      "   macro avg       0.99      0.99      0.99       300\n",
      "weighted avg       0.99      0.99      0.99       300\n",
      "\n",
      "CPU times: total: 2.16 s\n",
      "Wall time: 19.1 s\n"
     ]
    }
   ],
   "source": [
    "%%time\n",
    "\n",
    "clf = Arsenal(num_kernels=1000,        # default is 2000\n",
    "              n_estimators=25,         # default is 25\n",
    "              time_limit_in_minutes=0, # set a limit of time to build model\n",
    "              n_jobs=-1,\n",
    "              random_state=42)\n",
    "\n",
    "clf.fit(X_train, y_train)\n",
    "y_pred = clf.predict(X_test)\n",
    "\n",
    "clf_report = classification_report(y_test, y_pred)\n",
    "\n",
    "print(clf_report)"
   ]
  },
  {
   "cell_type": "code",
   "execution_count": null,
   "id": "b90329ca-499c-493c-90b3-a7bc3a9f2003",
   "metadata": {},
   "outputs": [],
   "source": []
  }
 ],
 "metadata": {
  "kernelspec": {
   "display_name": "Python 3 (ipykernel)",
   "language": "python",
   "name": "python3"
  },
  "language_info": {
   "codemirror_mode": {
    "name": "ipython",
    "version": 3
   },
   "file_extension": ".py",
   "mimetype": "text/x-python",
   "name": "python",
   "nbconvert_exporter": "python",
   "pygments_lexer": "ipython3",
   "version": "3.10.13"
  }
 },
 "nbformat": 4,
 "nbformat_minor": 5
}
