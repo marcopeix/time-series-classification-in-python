{
 "cells": [
  {
   "cell_type": "code",
   "execution_count": null,
   "id": "2e87589d-a399-471f-98fa-fd9bfda30b78",
   "metadata": {},
   "outputs": [],
   "source": [
    "import math\n",
    "import numpy as np\n",
    "import pandas as pd\n",
    "import matplotlib.pyplot as plt\n",
    "\n",
    "from sktime.datasets import load_UCR_UEA_dataset\n",
    "from sktime.classification.hybrid import HIVECOTEV2\n",
    "\n",
    "from sklearn.metrics import classification_report, precision_recall_fscore_support \n",
    "\n",
    "import warnings\n",
    "warnings.filterwarnings('ignore')"
   ]
  },
  {
   "cell_type": "code",
   "execution_count": null,
   "id": "80c35ad5-315c-4c39-af50-f9fff009d1b9",
   "metadata": {},
   "outputs": [],
   "source": [
    "X_train, y_train = load_UCR_UEA_dataset(name=\"Strawberry\",\n",
    "                                        split='train', \n",
    "                                        return_type='numpy3D',\n",
    "                                        extract_path=\"./data\")\n",
    "X_test, y_test = load_UCR_UEA_dataset(name=\"Strawberry\",\n",
    "                                      split='test', \n",
    "                                      return_type='numpy3D',\n",
    "                                      extract_path='./data')"
   ]
  },
  {
   "cell_type": "code",
   "execution_count": null,
   "id": "4fb087da-aa80-47c0-9fca-3a13db41b2a0",
   "metadata": {},
   "outputs": [],
   "source": [
    "def find_instance_with_label(X, y, label):\n",
    "    indices = np.where(y == label)[0]\n",
    "    if len(indices) == 0:\n",
    "        raise ValueError(f\"No instance found with label {label}\")\n",
    "    instance = X[indices[0]]\n",
    "    \n",
    "    return instance\n",
    "\n",
    "instance_label_1 = find_instance_with_label(X_train, y_train, '1')\n",
    "instance_label_2 = find_instance_with_label(X_train, y_train, '2')\n",
    "\n",
    "fig, (ax1, ax2) = plt.subplots(2, 1, figsize=(10, 8), sharex=True)\n",
    "\n",
    "lines1 = ax1.plot(instance_label_1.T)\n",
    "ax1.set_ylabel(\"Value\")\n",
    "ax1.set_title(\"Instance with Label 1\")\n",
    "\n",
    "lines2 = ax2.plot(instance_label_2.T)\n",
    "ax2.set_xlabel(\"Timestep\")\n",
    "ax2.set_ylabel(\"Value\")\n",
    "ax2.set_title(\"Instance with Label 2\")\n",
    "\n",
    "plt.tight_layout()\n",
    "plt.show()"
   ]
  },
  {
   "cell_type": "markdown",
   "id": "e0dce3a3-c2d5-41be-b633-2630c246b78f",
   "metadata": {},
   "source": [
    "## HIVE-COTE"
   ]
  },
  {
   "cell_type": "code",
   "execution_count": null,
   "id": "91c13030-b39e-4e07-8c46-2249f7560e40",
   "metadata": {},
   "outputs": [],
   "source": [
    "indices_1 = np.where(y_train == '1')[0]\n",
    "indices_2 = np.where(y_train == '2')[0]\n",
    "\n",
    "selected_indices_1 = np.random.choice(indices_1, size=50, replace=False)\n",
    "selected_indices_2 = np.random.choice(indices_2, size=50, replace=False)\n",
    "\n",
    "selected_indices = np.concatenate([selected_indices_1, selected_indices_2])\n",
    "\n",
    "X_train_selected = X_train[selected_indices]\n",
    "y_train_selected = y_train[selected_indices]"
   ]
  },
  {
   "cell_type": "code",
   "execution_count": null,
   "id": "9f26812a-a98b-466c-9000-39e1ebfaa505",
   "metadata": {},
   "outputs": [],
   "source": [
    "%%time\n",
    "\n",
    "\n",
    "clf.fit(X_train, y_train)\n",
    "y_pred = clf.predict(X_test)\n",
    "\n",
    "clf_report = classification_report(y_test, y_pred)\n",
    "\n",
    "print(clf_report)"
   ]
  },
  {
   "cell_type": "markdown",
   "id": "40d13ab6-0b06-4f29-9f2d-b4a67f6cb140",
   "metadata": {},
   "source": [
    "### Can other models achieve the same performance faster?"
   ]
  },
  {
   "cell_type": "code",
   "execution_count": null,
   "id": "13ee2580-aabb-4005-a8b8-be9c33d7fdfa",
   "metadata": {},
   "outputs": [],
   "source": [
    "from sktime.classification.dictionary_based import WEASEL, MUSE"
   ]
  },
  {
   "cell_type": "code",
   "execution_count": null,
   "id": "ac77e716-f135-440b-bde6-b81931a8e7d9",
   "metadata": {},
   "outputs": [],
   "source": [
    "%%time\n",
    "\n",
    "weasel = WEASEL(alphabet_size=3, random_state=42)\n",
    "weasel.fit(X_train, y_train)\n",
    "y_pred = weasel.predict(X_test)\n",
    "\n",
    "clf_report = classification_report(y_test, y_pred)\n",
    "\n",
    "print(clf_report)"
   ]
  },
  {
   "cell_type": "code",
   "execution_count": null,
   "id": "8e5f0956-7d5b-4b68-9b32-26b3bc0b036f",
   "metadata": {},
   "outputs": [],
   "source": [
    "%%time\n",
    "\n",
    "muse = MUSE(n_jobs=-1, random_state=42)\n",
    "muse.fit(X_train, y_train)\n",
    "y_pred = muse.predict(X_test)\n",
    "\n",
    "clf_report = classification_report(y_test, y_pred)\n",
    "\n",
    "print(clf_report)"
   ]
  },
  {
   "cell_type": "code",
   "execution_count": null,
   "id": "80fde1b0-c00d-4557-81b6-f68c4f8c63c4",
   "metadata": {},
   "outputs": [],
   "source": []
  }
 ],
 "metadata": {
  "kernelspec": {
   "display_name": "Python 3 (ipykernel)",
   "language": "python",
   "name": "python3"
  },
  "language_info": {
   "codemirror_mode": {
    "name": "ipython",
    "version": 3
   },
   "file_extension": ".py",
   "mimetype": "text/x-python",
   "name": "python",
   "nbconvert_exporter": "python",
   "pygments_lexer": "ipython3",
   "version": "3.10.13"
  }
 },
 "nbformat": 4,
 "nbformat_minor": 5
}
