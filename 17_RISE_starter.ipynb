{
 "cells": [
  {
   "cell_type": "code",
   "execution_count": null,
   "id": "3b39f120-de44-4d8a-b2cc-5e2152139367",
   "metadata": {},
   "outputs": [],
   "source": [
    "import math\n",
    "import numpy as np\n",
    "import pandas as pd\n",
    "import matplotlib.pyplot as plt\n",
    "\n",
    "from sktime.classification.interval_based import RandomIntervalSpectralEnsemble\n",
    "\n",
    "from sklearn.metrics import classification_report, precision_recall_fscore_support \n",
    "from sklearn.model_selection import GridSearchCV, KFold\n",
    "\n",
    "import warnings\n",
    "warnings.filterwarnings('ignore')"
   ]
  },
  {
   "cell_type": "code",
   "execution_count": null,
   "id": "16e1e048-fc9d-4dad-8c66-a9791bd39198",
   "metadata": {},
   "outputs": [],
   "source": [
    "X = pd.read_csv('data/lp2_X.csv')\n",
    "y = pd.read_csv('data/lp2_y.csv').squeeze()\n",
    "\n",
    "X.head()"
   ]
  },
  {
   "cell_type": "code",
   "execution_count": null,
   "id": "57499c89-0e01-4c80-872b-7ec15e9bb57c",
   "metadata": {},
   "outputs": [],
   "source": []
  },
  {
   "cell_type": "code",
   "execution_count": null,
   "id": "7c5217c9-4a32-4f27-b61c-635deddf05d2",
   "metadata": {},
   "outputs": [],
   "source": []
  },
  {
   "cell_type": "code",
   "execution_count": null,
   "id": "08a486c0-2f70-4623-8bfe-dfbc859d26bd",
   "metadata": {},
   "outputs": [],
   "source": []
  },
  {
   "cell_type": "code",
   "execution_count": null,
   "id": "09bb82ed-9647-4274-9630-ea9731194423",
   "metadata": {},
   "outputs": [],
   "source": [
    "normal_indices = y.loc[y == 1].index\n",
    "collision_indices = y.loc[y == 0].index\n",
    "\n",
    "split_idx = math.floor(len(normal_indices)/2)\n",
    "train_normal_idx = pd.Index(normal_indices.tolist()[:split_idx])\n",
    "test_normal_idx = pd.Index(normal_indices.tolist()[split_idx:])\n",
    "\n",
    "split_idx = math.floor(len(collision_indices)/2)\n",
    "train_col_idx = pd.Index(collision_indices.tolist()[:split_idx])\n",
    "test_col_idx = pd.Index(collision_indices.tolist()[split_idx:])\n",
    "\n",
    "train_index = pd.Index(pd.concat([pd.Series(idx) for idx in [train_normal_idx, train_col_idx]]))\n",
    "test_index = pd.Index(pd.concat([pd.Series(idx) for idx in [test_normal_idx, test_col_idx]]))"
   ]
  },
  {
   "cell_type": "code",
   "execution_count": null,
   "id": "7fcaa379-90bf-4118-ad0e-4c10d5747ff7",
   "metadata": {},
   "outputs": [],
   "source": [
    "X_train, y_train = X.loc[train_index], y.iloc[train_index]\n",
    "X_test, y_test = X.loc[test_index], y.iloc[test_index]"
   ]
  },
  {
   "cell_type": "markdown",
   "id": "c3cc75e2-f523-4858-9e72-10f114c906ee",
   "metadata": {},
   "source": [
    "## Random Interval Spectral Ensemble (RISE)"
   ]
  },
  {
   "cell_type": "code",
   "execution_count": null,
   "id": "aff906e7-d3b3-4aac-bd2f-7cf359821cc8",
   "metadata": {},
   "outputs": [],
   "source": []
  },
  {
   "cell_type": "code",
   "execution_count": null,
   "id": "950a4719-cd6d-461b-a361-0890f283bc7f",
   "metadata": {},
   "outputs": [],
   "source": []
  },
  {
   "cell_type": "code",
   "execution_count": null,
   "id": "77331e6d-2ec2-4e07-b9c3-14b695faf113",
   "metadata": {},
   "outputs": [],
   "source": []
  }
 ],
 "metadata": {
  "kernelspec": {
   "display_name": "Python 3 (ipykernel)",
   "language": "python",
   "name": "python3"
  },
  "language_info": {
   "codemirror_mode": {
    "name": "ipython",
    "version": 3
   },
   "file_extension": ".py",
   "mimetype": "text/x-python",
   "name": "python",
   "nbconvert_exporter": "python",
   "pygments_lexer": "ipython3",
   "version": "3.10.13"
  }
 },
 "nbformat": 4,
 "nbformat_minor": 5
}
