{
 "cells": [
  {
   "cell_type": "code",
   "execution_count": 2,
   "id": "d27b1293-812b-4ace-9171-c02cc28e8ab6",
   "metadata": {},
   "outputs": [],
   "source": [
    "import random\n",
    "import numpy as np\n",
    "import tensorflow as tf\n",
    "\n",
    "from sklearn.metrics import classification_report\n",
    "from sklearn.model_selection import train_test_split\n",
    "\n",
    "from sktime.datasets import load_UCR_UEA_dataset\n",
    "\n",
    "import torch\n",
    "import torch.nn as nn\n",
    "from torch.utils.data import Dataset, DataLoader"
   ]
  },
  {
   "cell_type": "code",
   "execution_count": 5,
   "id": "8c7f064c-27e2-4674-b8a4-01171bb6f1a6",
   "metadata": {},
   "outputs": [],
   "source": [
    "seed = 42\n",
    "random.seed(seed)\n",
    "np.random.seed(seed)\n",
    "torch.manual_seed(seed);"
   ]
  },
  {
   "cell_type": "code",
   "execution_count": 4,
   "id": "9cd583a4-07f3-4e24-848f-2fa1df58e6b8",
   "metadata": {},
   "outputs": [],
   "source": [
    "X_train, y_train = load_UCR_UEA_dataset(name=\"Strawberry\",\n",
    "                                        split='train', \n",
    "                                        return_type='numpy3D',\n",
    "                                        extract_path=\"./data\")\n",
    "X_test, y_test = load_UCR_UEA_dataset(name=\"Strawberry\",\n",
    "                                      split='test', \n",
    "                                      return_type='numpy3D',\n",
    "                                      extract_path='./data')"
   ]
  },
  {
   "cell_type": "code",
   "execution_count": 6,
   "id": "caae24cd-e624-440a-b242-2d415e032dfa",
   "metadata": {},
   "outputs": [],
   "source": [
    "class DNNTSClassifier(nn.Module):\n",
    "    def __init__(self, input_shape, num_classes):\n",
    "        super().__init__()\n",
    "        self.flatten = nn.Flatten()\n",
    "        \n",
    "        # Calculate input size for the first dense layer\n",
    "        n_timesteps, n_features = input_shape\n",
    "        input_size = n_timesteps * n_features\n",
    "        \n",
    "        self.layers = nn.Sequential(\n",
    "            nn.Linear(input_size, 256),\n",
    "            nn.ReLU(),\n",
    "            nn.BatchNorm1d(256),\n",
    "            nn.Dropout(0.3),\n",
    "            \n",
    "            nn.Linear(256, 128),\n",
    "            nn.ReLU(),\n",
    "            nn.BatchNorm1d(128),\n",
    "            nn.Dropout(0.3),\n",
    "            \n",
    "            nn.Linear(128, 64),\n",
    "            nn.ReLU(),\n",
    "            nn.BatchNorm1d(64),\n",
    "            nn.Dropout(0.3),\n",
    "            \n",
    "            nn.Linear(64, num_classes)\n",
    "        )\n",
    "    \n",
    "    def forward(self, x):\n",
    "        x = self.flatten(x)\n",
    "        x = self.layers(x)\n",
    "        return x"
   ]
  },
  {
   "cell_type": "code",
   "execution_count": 7,
   "id": "79cdb8ce-4ecd-4d32-8203-6eb609b965d5",
   "metadata": {},
   "outputs": [],
   "source": [
    "def train_model(model, train_loader, val_loader, device, epochs=100, patience=10):\n",
    "    criterion = nn.CrossEntropyLoss()\n",
    "    optimizer = torch.optim.Adam(model.parameters())\n",
    "    \n",
    "    best_val_loss = float('inf')\n",
    "    best_model = None\n",
    "    patience_counter = 0\n",
    "    \n",
    "    for epoch in range(epochs):\n",
    "        # Training phase\n",
    "        model.train()\n",
    "        train_loss = 0.0\n",
    "        for batch_X, batch_y in train_loader:\n",
    "            batch_X, batch_y = batch_X.to(device), batch_y.to(device)\n",
    "            \n",
    "            optimizer.zero_grad()\n",
    "            outputs = model(batch_X)\n",
    "            loss = criterion(outputs, batch_y)\n",
    "            loss.backward()\n",
    "            optimizer.step()\n",
    "            \n",
    "            train_loss += loss.item()\n",
    "        \n",
    "        # Validation phase\n",
    "        model.eval()\n",
    "        val_loss = 0.0\n",
    "        correct = 0\n",
    "        total = 0\n",
    "        \n",
    "        with torch.no_grad():\n",
    "            for batch_X, batch_y in val_loader:\n",
    "                batch_X, batch_y = batch_X.to(device), batch_y.to(device)\n",
    "                outputs = model(batch_X)\n",
    "                loss = criterion(outputs, batch_y)\n",
    "                val_loss += loss.item()\n",
    "                \n",
    "                _, predicted = torch.max(outputs, 1)\n",
    "                correct += (predicted == batch_y).sum().item()\n",
    "                total += batch_y.size(0)\n",
    "        \n",
    "        val_loss /= len(val_loader)\n",
    "        val_accuracy = correct / total\n",
    "        \n",
    "        print(f'Epoch {epoch+1}, Val Loss: {val_loss:.4f}, Val Accuracy: {val_accuracy:.4f}')\n",
    "        \n",
    "        # Early stopping\n",
    "        if val_loss < best_val_loss:\n",
    "            best_val_loss = val_loss\n",
    "            best_model = model.state_dict()\n",
    "            patience_counter = 0\n",
    "        else:\n",
    "            patience_counter += 1\n",
    "            if patience_counter >= patience:\n",
    "                print('Early stopping triggered')\n",
    "                break\n",
    "    \n",
    "    # Load best model\n",
    "    model.load_state_dict(best_model)\n",
    "    return model"
   ]
  },
  {
   "cell_type": "code",
   "execution_count": 8,
   "id": "de376cc4-0af3-456a-a551-8c4239511e5b",
   "metadata": {},
   "outputs": [],
   "source": [
    "def predict(model, X, device):\n",
    "    model.eval()\n",
    "    X_tensor = torch.FloatTensor(X).to(device)\n",
    "    \n",
    "    with torch.no_grad():\n",
    "        outputs = model(X_tensor)\n",
    "        _, predicted = torch.max(outputs, 1)\n",
    "    \n",
    "    return predicted.cpu().numpy()"
   ]
  },
  {
   "cell_type": "code",
   "execution_count": 17,
   "id": "3f952eae-8a0a-4dc1-be00-72e27d58e797",
   "metadata": {},
   "outputs": [],
   "source": [
    "y_train = y_train.astype(int) - 1\n",
    "y_test = y_test.astype(int) - 1"
   ]
  },
  {
   "cell_type": "code",
   "execution_count": 18,
   "id": "bb50c450-d77c-486f-b14a-45c02b109322",
   "metadata": {},
   "outputs": [],
   "source": [
    "X_train_final, X_val, y_train_final, y_val = train_test_split(\n",
    "    X_train, \n",
    "    y_train,\n",
    "    test_size=0.2,\n",
    "    random_state=42\n",
    ")"
   ]
  },
  {
   "cell_type": "code",
   "execution_count": 19,
   "id": "d9f60e7e-0ec7-4b5b-8653-7065026410db",
   "metadata": {},
   "outputs": [],
   "source": [
    "class TimeSeriesDataset(Dataset):\n",
    "    def __init__(self, X, y):\n",
    "        self.X = torch.FloatTensor(X)\n",
    "        self.y = torch.LongTensor(y)\n",
    "    \n",
    "    def __len__(self):\n",
    "        return len(self.X)\n",
    "    \n",
    "    def __getitem__(self, idx):\n",
    "        return self.X[idx], self.y[idx]\n",
    "\n",
    "# Create datasets\n",
    "train_dataset = TimeSeriesDataset(X_train_final, y_train_final)\n",
    "val_dataset = TimeSeriesDataset(X_val, y_val)\n",
    "    \n",
    "# Create data loaders\n",
    "train_loader = DataLoader(train_dataset, batch_size=32, shuffle=True)\n",
    "val_loader = DataLoader(val_dataset, batch_size=32, shuffle=False)"
   ]
  },
  {
   "cell_type": "code",
   "execution_count": 20,
   "id": "edadee44-d6ac-41df-96e8-c037509e1470",
   "metadata": {},
   "outputs": [
    {
     "name": "stdout",
     "output_type": "stream",
     "text": [
      "Using device: cpu\n"
     ]
    }
   ],
   "source": [
    "device = torch.device('cuda' if torch.cuda.is_available() else 'cpu')\n",
    "print(f'Using device: {device}')"
   ]
  },
  {
   "cell_type": "code",
   "execution_count": 21,
   "id": "18667eae-cb35-44cd-b77d-0822d56a369f",
   "metadata": {},
   "outputs": [],
   "source": [
    "model = DNNTSClassifier(\n",
    "    input_shape=(X_train.shape[1], X_train.shape[2]),\n",
    "    num_classes=len(np.unique(y_train))\n",
    ").to(device)"
   ]
  },
  {
   "cell_type": "code",
   "execution_count": 22,
   "id": "607e54d1-dee2-4c0d-9fb1-705d33d8c948",
   "metadata": {
    "scrolled": true
   },
   "outputs": [
    {
     "name": "stdout",
     "output_type": "stream",
     "text": [
      "Epoch 1, Val Loss: 0.6768, Val Accuracy: 0.5447\n",
      "Epoch 2, Val Loss: 0.7350, Val Accuracy: 0.6098\n",
      "Epoch 3, Val Loss: 0.2393, Val Accuracy: 0.9106\n",
      "Epoch 4, Val Loss: 0.3170, Val Accuracy: 0.8455\n",
      "Epoch 5, Val Loss: 0.1758, Val Accuracy: 0.9431\n",
      "Epoch 6, Val Loss: 0.2110, Val Accuracy: 0.9268\n",
      "Epoch 7, Val Loss: 0.1477, Val Accuracy: 0.9350\n",
      "Epoch 8, Val Loss: 0.1464, Val Accuracy: 0.9268\n",
      "Epoch 9, Val Loss: 0.5850, Val Accuracy: 0.8537\n",
      "Epoch 10, Val Loss: 0.2398, Val Accuracy: 0.9024\n",
      "Epoch 11, Val Loss: 0.4347, Val Accuracy: 0.8618\n",
      "Epoch 12, Val Loss: 0.2897, Val Accuracy: 0.9106\n",
      "Epoch 13, Val Loss: 0.3547, Val Accuracy: 0.9024\n",
      "Epoch 14, Val Loss: 0.1280, Val Accuracy: 0.9431\n",
      "Epoch 15, Val Loss: 0.2886, Val Accuracy: 0.9106\n",
      "Epoch 16, Val Loss: 0.2856, Val Accuracy: 0.9187\n",
      "Epoch 17, Val Loss: 0.1099, Val Accuracy: 0.9593\n",
      "Epoch 18, Val Loss: 0.1504, Val Accuracy: 0.9350\n",
      "Epoch 19, Val Loss: 0.0987, Val Accuracy: 0.9675\n",
      "Epoch 20, Val Loss: 0.1072, Val Accuracy: 0.9431\n",
      "Epoch 21, Val Loss: 0.0814, Val Accuracy: 0.9756\n",
      "Epoch 22, Val Loss: 0.0805, Val Accuracy: 0.9756\n",
      "Epoch 23, Val Loss: 0.1502, Val Accuracy: 0.9268\n",
      "Epoch 24, Val Loss: 0.0833, Val Accuracy: 0.9837\n",
      "Epoch 25, Val Loss: 0.1154, Val Accuracy: 0.9593\n",
      "Epoch 26, Val Loss: 0.1336, Val Accuracy: 0.9593\n",
      "Epoch 27, Val Loss: 0.0677, Val Accuracy: 0.9919\n",
      "Epoch 28, Val Loss: 0.0861, Val Accuracy: 0.9756\n",
      "Epoch 29, Val Loss: 0.1005, Val Accuracy: 0.9512\n",
      "Epoch 30, Val Loss: 0.0978, Val Accuracy: 0.9512\n",
      "Epoch 31, Val Loss: 0.0958, Val Accuracy: 0.9593\n",
      "Epoch 32, Val Loss: 0.0715, Val Accuracy: 0.9756\n",
      "Epoch 33, Val Loss: 0.0802, Val Accuracy: 0.9837\n",
      "Epoch 34, Val Loss: 0.1494, Val Accuracy: 0.9431\n",
      "Epoch 35, Val Loss: 0.1287, Val Accuracy: 0.9350\n",
      "Epoch 36, Val Loss: 0.1047, Val Accuracy: 0.9756\n",
      "Epoch 37, Val Loss: 0.0830, Val Accuracy: 0.9593\n",
      "Early stopping triggered\n"
     ]
    }
   ],
   "source": [
    "model = train_model(model, train_loader, val_loader, device)"
   ]
  },
  {
   "cell_type": "code",
   "execution_count": 23,
   "id": "207fdec7-b54e-4da7-bd78-4daecc527157",
   "metadata": {
    "scrolled": true
   },
   "outputs": [
    {
     "data": {
      "text/plain": [
       "array([0, 0, 0, 0, 0, 0, 0, 0, 0, 0, 0, 0, 0, 0, 0, 0, 0, 0, 0, 0, 0, 0,\n",
       "       0, 0, 1, 1, 1, 1, 1, 1, 1, 0, 0, 0, 0, 0, 0, 0, 0, 0, 0, 0, 0, 0,\n",
       "       0, 0, 0, 0, 0, 0, 0, 0, 0, 0, 0, 0, 0, 0, 0, 0, 0, 0, 0, 0, 0, 0,\n",
       "       0, 0, 1, 1, 1, 1, 1, 1, 1, 1, 1, 1, 1, 1, 1, 1, 1, 1, 1, 1, 1, 1,\n",
       "       1, 1, 1, 1, 1, 1, 1, 1, 1, 1, 1, 1, 1, 1, 0, 1, 0, 1, 1, 0, 1, 0,\n",
       "       1, 1, 0, 0, 0, 0, 0, 0, 1, 0, 0, 0, 0, 0, 0, 0, 0, 0, 0, 0, 0, 1,\n",
       "       0, 0, 0, 0, 0, 0, 0, 0, 0, 0, 0, 0, 0, 0, 0, 0, 0, 0, 0, 0, 0, 0,\n",
       "       0, 0, 0, 1, 1, 1, 1, 1, 1, 1, 1, 1, 1, 1, 1, 1, 1, 1, 1, 0, 0, 0,\n",
       "       0, 0, 0, 0, 0, 0, 1, 1, 1, 1, 1, 1, 1, 1, 1, 1, 1, 1, 1, 1, 1, 1,\n",
       "       1, 1, 1, 1, 1, 1, 1, 1, 1, 1, 1, 1, 1, 1, 1, 1, 1, 1, 1, 1, 1, 1,\n",
       "       1, 1, 1, 1, 1, 1, 1, 1, 1, 1, 1, 1, 1, 1, 1, 1, 0, 0, 0, 0, 0, 1,\n",
       "       1, 1, 1, 1, 1, 1, 1, 1, 1, 1, 1, 1, 0, 0, 1, 1, 1, 1, 1, 1, 1, 1,\n",
       "       1, 1, 1, 1, 1, 1, 1, 1, 1, 0, 0, 0, 1, 1, 0, 1, 1, 1, 1, 1, 1, 1,\n",
       "       1, 1, 1, 1, 1, 0, 1, 1, 1, 1, 1, 1, 1, 1, 1, 1, 1, 1, 1, 1, 1, 1,\n",
       "       1, 1, 1, 1, 1, 1, 1, 1, 1, 1, 1, 1, 1, 1, 1, 1, 1, 1, 1, 1, 1, 1,\n",
       "       1, 1, 1, 1, 1, 1, 1, 1, 1, 1, 1, 1, 1, 1, 1, 1, 1, 1, 1, 1, 1, 1,\n",
       "       1, 0, 0, 0, 0, 0, 1, 0, 0, 0, 0, 0, 0, 0, 0, 0, 0, 0], dtype=int64)"
      ]
     },
     "execution_count": 23,
     "metadata": {},
     "output_type": "execute_result"
    }
   ],
   "source": [
    "y_pred = predict(model, X_test, device)\n",
    "y_pred"
   ]
  },
  {
   "cell_type": "code",
   "execution_count": 24,
   "id": "bc62c66e-4fd3-42e8-bd2d-f72262002093",
   "metadata": {},
   "outputs": [
    {
     "name": "stdout",
     "output_type": "stream",
     "text": [
      "              precision    recall  f1-score   support\n",
      "\n",
      "           0       0.89      0.98      0.93       132\n",
      "           1       0.99      0.93      0.96       238\n",
      "\n",
      "    accuracy                           0.95       370\n",
      "   macro avg       0.94      0.96      0.95       370\n",
      "weighted avg       0.95      0.95      0.95       370\n",
      "\n"
     ]
    }
   ],
   "source": [
    "clf_report = classification_report(y_test, y_pred)\n",
    "\n",
    "print(clf_report)"
   ]
  },
  {
   "cell_type": "code",
   "execution_count": null,
   "id": "fd2d1a18-8d38-42d3-af50-db5476c3d923",
   "metadata": {},
   "outputs": [],
   "source": []
  }
 ],
 "metadata": {
  "kernelspec": {
   "display_name": "Python 3 (ipykernel)",
   "language": "python",
   "name": "python3"
  },
  "language_info": {
   "codemirror_mode": {
    "name": "ipython",
    "version": 3
   },
   "file_extension": ".py",
   "mimetype": "text/x-python",
   "name": "python",
   "nbconvert_exporter": "python",
   "pygments_lexer": "ipython3",
   "version": "3.10.13"
  }
 },
 "nbformat": 4,
 "nbformat_minor": 5
}
