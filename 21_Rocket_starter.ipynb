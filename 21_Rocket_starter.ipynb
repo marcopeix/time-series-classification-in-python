{
 "cells": [
  {
   "cell_type": "code",
   "execution_count": null,
   "id": "6819115f-76d2-4746-a10d-aa461093555b",
   "metadata": {},
   "outputs": [],
   "source": [
    "import math\n",
    "import numpy as np\n",
    "import pandas as pd\n",
    "import matplotlib.pyplot as plt\n",
    "\n",
    "from sktime.datasets import load_UCR_UEA_dataset\n",
    "\n",
    "from sktime.classification.kernel_based import RocketClassifier\n",
    "\n",
    "from sklearn.metrics import classification_report, precision_recall_fscore_support \n",
    "from sklearn.model_selection import GridSearchCV, KFold\n",
    "\n",
    "import warnings\n",
    "warnings.filterwarnings('ignore')"
   ]
  },
  {
   "cell_type": "code",
   "execution_count": null,
   "id": "f6f6e51d-a4ea-49d0-8e2b-6c84007b816f",
   "metadata": {},
   "outputs": [],
   "source": [
    "X_train, y_train = load_UCR_UEA_dataset(name=\"ArticularyWordRecognition\",\n",
    "                                        split='train', \n",
    "                                        return_type='numpy3D',\n",
    "                                        extract_path=\"./data\")\n",
    "X_test, y_test = load_UCR_UEA_dataset(name=\"ArticularyWordRecognition\",\n",
    "                                      split='test', \n",
    "                                      return_type='numpy3D',\n",
    "                                      extract_path='./data')"
   ]
  },
  {
   "cell_type": "code",
   "execution_count": null,
   "id": "54c7cbea-7d95-473b-a7c6-187ffa6ea6c4",
   "metadata": {},
   "outputs": [],
   "source": [
    "print(X_train.shape, y_train.shape)\n",
    "print(X_test.shape, y_test.shape)"
   ]
  },
  {
   "cell_type": "markdown",
   "id": "703b498a-079a-45a8-833b-54d29a2fff09",
   "metadata": {},
   "source": [
    "## ROCKET"
   ]
  },
  {
   "cell_type": "code",
   "execution_count": null,
   "id": "b32ff688-888b-4782-b103-dcd7ce7218c9",
   "metadata": {},
   "outputs": [],
   "source": []
  },
  {
   "cell_type": "code",
   "execution_count": null,
   "id": "ff9684a5-131b-46a4-84cf-4e246f92b584",
   "metadata": {},
   "outputs": [],
   "source": []
  },
  {
   "cell_type": "code",
   "execution_count": null,
   "id": "b90329ca-499c-493c-90b3-a7bc3a9f2003",
   "metadata": {},
   "outputs": [],
   "source": []
  }
 ],
 "metadata": {
  "kernelspec": {
   "display_name": "Python 3 (ipykernel)",
   "language": "python",
   "name": "python3"
  },
  "language_info": {
   "codemirror_mode": {
    "name": "ipython",
    "version": 3
   },
   "file_extension": ".py",
   "mimetype": "text/x-python",
   "name": "python",
   "nbconvert_exporter": "python",
   "pygments_lexer": "ipython3",
   "version": "3.10.13"
  }
 },
 "nbformat": 4,
 "nbformat_minor": 5
}
