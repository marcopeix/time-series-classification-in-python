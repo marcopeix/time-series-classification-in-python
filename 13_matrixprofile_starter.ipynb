{
 "cells": [
  {
   "cell_type": "code",
   "execution_count": null,
   "id": "cdf6cfa2-e4d0-443e-a6ff-67abdbb0b50a",
   "metadata": {},
   "outputs": [],
   "source": [
    "import warnings\n",
    "warnings.filterwarnings('ignore')\n",
    "\n",
    "import pandas as pd\n",
    "import numpy as np\n",
    "import matplotlib.pyplot as plt\n",
    "\n",
    "from sktime.datasets import load_basic_motions\n",
    "\n",
    "from sklearn.metrics import accuracy_score\n",
    "\n",
    "X_train, y_train = load_basic_motions(split='train', return_type='numpy3D')\n",
    "X_test, y_test = load_basic_motions(split='test', return_type='numpy3D')"
   ]
  },
  {
   "cell_type": "code",
   "execution_count": null,
   "id": "b975620c-2970-4c06-81d2-25f98f42fe0f",
   "metadata": {
    "scrolled": true
   },
   "outputs": [],
   "source": [
    "series_indices = [0, 10, 20, 30]\n",
    "categories = ['standing', 'running', 'walking', 'badminton']\n",
    "features = [\"accel_1\", \"accel_2\", \"accel_3\", \"gyro_1\", \"gyro_2\", \"gyro_3\"]\n",
    "\n",
    "selected_series = X_train[series_indices]\n",
    "\n",
    "fig, axes = plt.subplots(4, 1, figsize=(10, 18))\n",
    "\n",
    "for i in range(4):  \n",
    "    for j in range(selected_series.shape[1]):\n",
    "        axes[i].plot(selected_series[i, j], label=features[j])\n",
    "\n",
    "    axes[i].set_title(f\"Category: {categories[i]}\")\n",
    "    axes[i].set_xlabel(\"Time Steps\")\n",
    "    axes[i].set_ylabel(\"Values\")\n",
    "    axes[i].legend()\n",
    "\n",
    "plt.tight_layout()\n",
    "plt.show()"
   ]
  },
  {
   "cell_type": "markdown",
   "id": "290d6bfc-e23c-4f30-b0fc-9016a9ae1a95",
   "metadata": {},
   "source": [
    "## Matrix Profile classifier"
   ]
  },
  {
   "cell_type": "code",
   "execution_count": null,
   "id": "cd9f030a-5351-4431-a51c-ff8cdbbc9d97",
   "metadata": {},
   "outputs": [],
   "source": [
    "from sktime.classification.feature_based import MatrixProfileClassifier\n",
    "\n",
    "from sklearn.ensemble import RandomForestClassifier\n",
    "from sklearn.neighbors import KNeighborsClassifier\n",
    "from sklearn.ensemble import AdaBoostClassifier\n",
    "from sklearn.svm import SVC\n",
    "\n",
    "accuracies = []\n",
    "\n",
    "knn_clf = KNeighborsClassifier(n_neighbors=1)\n",
    "ada_clf = AdaBoostClassifier(n_estimators=10, random_state=42)\n",
    "rf_clf = RandomForestClassifier(n_estimators=10, random_state=42)\n",
    "svc_clf = SVC()\n",
    "\n",
    "classifiers = [knn_clf, ada_clf, rf_clf, svc_clf]\n",
    "\n",
    "# For loop to run the MatrixProfile classifier\n"
   ]
  },
  {
   "cell_type": "code",
   "execution_count": null,
   "id": "25280fcb-5dad-4439-a2dd-ab9d9344372f",
   "metadata": {},
   "outputs": [],
   "source": [
    "x = ['KNN', 'AdaBoost', 'Random Forest', 'SVC']\n",
    "\n",
    "fig, ax = plt.subplots()\n",
    "ax.bar(x, accuracies)\n",
    "ax.set_xlabel('Model')\n",
    "ax.set_ylabel('Accuracy (%)')\n",
    "\n",
    "for i, v in enumerate(accuracies):\n",
    "    ax.text(x=i, y=v+1, s=str(v), ha='center')\n",
    "\n",
    "plt.tight_layout()"
   ]
  },
  {
   "cell_type": "markdown",
   "id": "c8ef7046-e141-4009-aedc-b4bbd37be19f",
   "metadata": {},
   "source": [
    "### Tune the sequence length"
   ]
  },
  {
   "cell_type": "code",
   "execution_count": null,
   "id": "202f5a48-bdcf-4f62-ad26-9dbcb92986e9",
   "metadata": {},
   "outputs": [],
   "source": [
    "from sklearn.model_selection import GridSearchCV\n",
    "from sklearn.model_selection import KFold\n",
    "\n",
    "# Initialize MatrixProfilerClassifier with top algorithm\n",
    "\n",
    "# Define the list of parameters to search\n",
    "\n",
    "# Initialize grid search\n",
    "\n",
    "# Run grid search\n",
    "\n",
    "# Predict\n",
    "\n",
    "# Print best params and accuracy\n",
    "print(tuned_clf.best_params_)\n",
    "print(round(accuracy_score(y_test, y_pred)*100,2))"
   ]
  },
  {
   "cell_type": "code",
   "execution_count": null,
   "id": "99863f88-b956-4284-8efb-cde41941b10a",
   "metadata": {},
   "outputs": [],
   "source": []
  }
 ],
 "metadata": {
  "kernelspec": {
   "display_name": "Python 3 (ipykernel)",
   "language": "python",
   "name": "python3"
  },
  "language_info": {
   "codemirror_mode": {
    "name": "ipython",
    "version": 3
   },
   "file_extension": ".py",
   "mimetype": "text/x-python",
   "name": "python",
   "nbconvert_exporter": "python",
   "pygments_lexer": "ipython3",
   "version": "3.10.13"
  }
 },
 "nbformat": 4,
 "nbformat_minor": 5
}
