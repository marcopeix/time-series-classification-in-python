{
 "cells": [
  {
   "cell_type": "code",
   "execution_count": 1,
   "id": "924c7c35-33c9-4d1e-bf3e-086e8e2ecdf3",
   "metadata": {},
   "outputs": [],
   "source": [
    "import random\n",
    "import numpy as np\n",
    "import tensorflow as tf\n",
    "\n",
    "from sklearn.metrics import classification_report\n",
    "from sklearn.model_selection import train_test_split\n",
    "\n",
    "from sktime.datasets import load_UCR_UEA_dataset\n",
    "\n",
    "from tensorflow.keras.models import Sequential\n",
    "from tensorflow.keras.utils import to_categorical\n",
    "from tensorflow.keras.callbacks import EarlyStopping\n",
    "from tensorflow.keras.layers import (Flatten, Dense, Dropout, \n",
    "BatchNormalization, Input)"
   ]
  },
  {
   "cell_type": "code",
   "execution_count": 2,
   "id": "6ed540a3-3b47-4407-9e03-d08897c24fd0",
   "metadata": {},
   "outputs": [],
   "source": [
    "seed = 42\n",
    "random.seed(seed)\n",
    "np.random.seed(seed)\n",
    "tf.random.set_seed(seed)"
   ]
  },
  {
   "cell_type": "code",
   "execution_count": 3,
   "id": "cc9f4f6c-4f21-4b9e-81c0-5ab3b0176802",
   "metadata": {},
   "outputs": [],
   "source": [
    "X_train, y_train = load_UCR_UEA_dataset(name=\"Strawberry\",\n",
    "                                        split='train', \n",
    "                                        return_type='numpy3D',\n",
    "                                        extract_path=\"./data\")\n",
    "X_test, y_test = load_UCR_UEA_dataset(name=\"Strawberry\",\n",
    "                                      split='test', \n",
    "                                      return_type='numpy3D',\n",
    "                                      extract_path='./data')"
   ]
  },
  {
   "cell_type": "code",
   "execution_count": 4,
   "id": "d7e3796c-ae6a-43ef-bae9-f0de9519a2bb",
   "metadata": {},
   "outputs": [],
   "source": [
    "def prepare_labels(y):\n",
    "    unique_classes = np.unique(y)\n",
    "    class_mapping = {label: idx for idx, label in enumerate(unique_classes)}\n",
    "    y_int = np.array([class_mapping[label] for label in y])\n",
    "    y_cat = to_categorical(y_int)\n",
    "    \n",
    "    return y_cat"
   ]
  },
  {
   "cell_type": "code",
   "execution_count": 5,
   "id": "c4c07388-4497-4ed4-ba70-6761b073abe7",
   "metadata": {},
   "outputs": [],
   "source": [
    "def create_model(\n",
    "    input_shape, \n",
    "    num_classes\n",
    "):\n",
    "    model = Sequential([\n",
    "        # Input layer\n",
    "        Input(shape=input_shape),\n",
    "        \n",
    "        # Flatten the time series input\n",
    "        Flatten(),\n",
    "        \n",
    "        # Dense layers\n",
    "        Dense(256, activation='relu'),\n",
    "        BatchNormalization(),\n",
    "        Dropout(0.3),\n",
    "        \n",
    "        Dense(128, activation='relu'),\n",
    "        BatchNormalization(),\n",
    "        Dropout(0.3),\n",
    "        \n",
    "        Dense(64, activation='relu'),\n",
    "        BatchNormalization(),\n",
    "        Dropout(0.3),\n",
    "        \n",
    "        Dense(num_classes, activation='softmax')\n",
    "    ])\n",
    "    \n",
    "    model.compile(\n",
    "        optimizer='adam',\n",
    "        loss='categorical_crossentropy',\n",
    "        metrics=['accuracy']\n",
    "    )\n",
    "    \n",
    "    return model"
   ]
  },
  {
   "cell_type": "code",
   "execution_count": 6,
   "id": "4cf80e7a-6b98-4b61-9187-8c7eb30b060c",
   "metadata": {},
   "outputs": [],
   "source": [
    "def train_model(\n",
    "    model, \n",
    "    X_train, \n",
    "    y_train, \n",
    "    validation_split=0.2,\n",
    "    batch_size=32, \n",
    "    epochs=100, \n",
    "    patience=3\n",
    "):\n",
    "    X_train_final, X_val, y_train_final, y_val = train_test_split(\n",
    "        X_train, y_train,\n",
    "        test_size=validation_split,\n",
    "        random_state=42\n",
    "    )\n",
    "    \n",
    "    early_stopping = EarlyStopping(\n",
    "        monitor='val_loss',\n",
    "        patience=patience,\n",
    "        restore_best_weights=True\n",
    "    )\n",
    "    \n",
    "    history = model.fit(\n",
    "        X_train_final, y_train_final,\n",
    "        batch_size=batch_size,\n",
    "        epochs=epochs,\n",
    "        validation_data=(X_val, y_val),\n",
    "        callbacks=[early_stopping]\n",
    "    )\n",
    "    \n",
    "    return history"
   ]
  },
  {
   "cell_type": "code",
   "execution_count": 7,
   "id": "0ab441b9-e0df-41be-a94f-a9730cb3d3b7",
   "metadata": {},
   "outputs": [],
   "source": [
    "def predict(\n",
    "    model, \n",
    "    X, \n",
    "    return_probabilities=False\n",
    "):\n",
    "    y_pred_proba = model.predict(X)\n",
    "    \n",
    "    if return_probabilities:\n",
    "        return y_pred_proba\n",
    "    else:\n",
    "        return np.argmax(y_pred_proba, axis=1)"
   ]
  },
  {
   "cell_type": "code",
   "execution_count": 8,
   "id": "d65478ea-cacd-4fd3-9627-b90fb73ff803",
   "metadata": {},
   "outputs": [],
   "source": [
    "y_train = y_train.astype(int)\n",
    "y_test = y_test.astype(int)\n",
    "\n",
    "# Shift values to start from 0 if needed (only if your labels are 1,2 instead of 0,1)\n",
    "# Otherwise, Keras makes three labels that start at 0, but this label is never used\n",
    "y_train = y_train - 1\n",
    "y_test = y_test - 1\n",
    "y_train_cat = prepare_labels(y_train)\n",
    "y_test_cat = prepare_labels(y_test)"
   ]
  },
  {
   "cell_type": "code",
   "execution_count": 9,
   "id": "7855c897-b8d9-4c0c-b1bf-de20e4b0ad58",
   "metadata": {},
   "outputs": [],
   "source": [
    "n_features = X_train.shape[1]\n",
    "n_timesteps = X_train.shape[2]\n",
    "n_classes = 2\n",
    "    \n",
    "model = create_model(\n",
    "    input_shape=(n_features, n_timesteps), \n",
    "    num_classes=n_classes\n",
    ")"
   ]
  },
  {
   "cell_type": "code",
   "execution_count": 10,
   "id": "ff0485cb-8164-49b5-b5d6-218329c28b00",
   "metadata": {
    "scrolled": true
   },
   "outputs": [
    {
     "name": "stdout",
     "output_type": "stream",
     "text": [
      "Epoch 1/100\n",
      "\u001b[1m16/16\u001b[0m \u001b[32m━━━━━━━━━━━━━━━━━━━━\u001b[0m\u001b[37m\u001b[0m \u001b[1m2s\u001b[0m 19ms/step - accuracy: 0.5789 - loss: 1.0922 - val_accuracy: 0.8130 - val_loss: 0.6234\n",
      "Epoch 2/100\n",
      "\u001b[1m16/16\u001b[0m \u001b[32m━━━━━━━━━━━━━━━━━━━━\u001b[0m\u001b[37m\u001b[0m \u001b[1m0s\u001b[0m 6ms/step - accuracy: 0.7125 - loss: 0.6688 - val_accuracy: 0.5610 - val_loss: 0.7005\n",
      "Epoch 3/100\n",
      "\u001b[1m16/16\u001b[0m \u001b[32m━━━━━━━━━━━━━━━━━━━━\u001b[0m\u001b[37m\u001b[0m \u001b[1m0s\u001b[0m 6ms/step - accuracy: 0.8403 - loss: 0.4160 - val_accuracy: 0.4146 - val_loss: 0.8241\n",
      "Epoch 4/100\n",
      "\u001b[1m16/16\u001b[0m \u001b[32m━━━━━━━━━━━━━━━━━━━━\u001b[0m\u001b[37m\u001b[0m \u001b[1m0s\u001b[0m 6ms/step - accuracy: 0.8151 - loss: 0.4165 - val_accuracy: 0.3984 - val_loss: 1.0283\n"
     ]
    }
   ],
   "source": [
    "history = train_model(model, X_train, y_train_cat)"
   ]
  },
  {
   "cell_type": "code",
   "execution_count": 11,
   "id": "087cdd1e-d4cf-4788-88c5-1c943e29427a",
   "metadata": {},
   "outputs": [
    {
     "name": "stdout",
     "output_type": "stream",
     "text": [
      "\u001b[1m12/12\u001b[0m \u001b[32m━━━━━━━━━━━━━━━━━━━━\u001b[0m\u001b[37m\u001b[0m \u001b[1m0s\u001b[0m 8ms/step\n"
     ]
    }
   ],
   "source": [
    "y_pred = predict(model, X_test)"
   ]
  },
  {
   "cell_type": "code",
   "execution_count": 12,
   "id": "164eba5b-f4de-436c-b1c5-6f890d5b4137",
   "metadata": {},
   "outputs": [
    {
     "name": "stdout",
     "output_type": "stream",
     "text": [
      "              precision    recall  f1-score   support\n",
      "\n",
      "           0       0.82      0.70      0.76       132\n",
      "           1       0.85      0.92      0.88       238\n",
      "\n",
      "    accuracy                           0.84       370\n",
      "   macro avg       0.84      0.81      0.82       370\n",
      "weighted avg       0.84      0.84      0.84       370\n",
      "\n"
     ]
    }
   ],
   "source": [
    "clf_report = classification_report(y_test, y_pred)\n",
    "\n",
    "print(clf_report)"
   ]
  },
  {
   "cell_type": "code",
   "execution_count": null,
   "id": "98a8e4a7-341f-4418-a497-c41f0292d40b",
   "metadata": {},
   "outputs": [],
   "source": []
  }
 ],
 "metadata": {
  "kernelspec": {
   "display_name": "Python 3 (ipykernel)",
   "language": "python",
   "name": "python3"
  },
  "language_info": {
   "codemirror_mode": {
    "name": "ipython",
    "version": 3
   },
   "file_extension": ".py",
   "mimetype": "text/x-python",
   "name": "python",
   "nbconvert_exporter": "python",
   "pygments_lexer": "ipython3",
   "version": "3.10.13"
  }
 },
 "nbformat": 4,
 "nbformat_minor": 5
}
