{
 "cells": [
  {
   "cell_type": "code",
   "execution_count": null,
   "id": "924c7c35-33c9-4d1e-bf3e-086e8e2ecdf3",
   "metadata": {},
   "outputs": [],
   "source": [
    "import random\n",
    "import numpy as np\n",
    "import tensorflow as tf\n",
    "\n",
    "from sklearn.metrics import classification_report\n",
    "from sklearn.model_selection import train_test_split\n",
    "\n",
    "from sktime.datasets import load_UCR_UEA_dataset\n",
    "\n",
    "from tensorflow.keras.models import Sequential\n",
    "from tensorflow.keras.utils import to_categorical\n",
    "from tensorflow.keras.callbacks import EarlyStopping\n",
    "from tensorflow.keras.layers import (Flatten, Dense, Dropout, \n",
    "BatchNormalization, Input)"
   ]
  },
  {
   "cell_type": "code",
   "execution_count": null,
   "id": "6ed540a3-3b47-4407-9e03-d08897c24fd0",
   "metadata": {},
   "outputs": [],
   "source": [
    "seed = 42\n",
    "random.seed(seed)\n",
    "np.random.seed(seed)\n",
    "tf.random.set_seed(seed)"
   ]
  },
  {
   "cell_type": "code",
   "execution_count": null,
   "id": "cc9f4f6c-4f21-4b9e-81c0-5ab3b0176802",
   "metadata": {},
   "outputs": [],
   "source": [
    "X_train, y_train = load_UCR_UEA_dataset(name=\"Strawberry\",\n",
    "                                        split='train', \n",
    "                                        return_type='numpy3D',\n",
    "                                        extract_path=\"./data\")\n",
    "X_test, y_test = load_UCR_UEA_dataset(name=\"Strawberry\",\n",
    "                                      split='test', \n",
    "                                      return_type='numpy3D',\n",
    "                                      extract_path='./data')"
   ]
  },
  {
   "cell_type": "code",
   "execution_count": null,
   "id": "d7e3796c-ae6a-43ef-bae9-f0de9519a2bb",
   "metadata": {},
   "outputs": [],
   "source": []
  },
  {
   "cell_type": "code",
   "execution_count": null,
   "id": "c4c07388-4497-4ed4-ba70-6761b073abe7",
   "metadata": {},
   "outputs": [],
   "source": []
  },
  {
   "cell_type": "code",
   "execution_count": null,
   "id": "4cf80e7a-6b98-4b61-9187-8c7eb30b060c",
   "metadata": {},
   "outputs": [],
   "source": []
  },
  {
   "cell_type": "code",
   "execution_count": null,
   "id": "0ab441b9-e0df-41be-a94f-a9730cb3d3b7",
   "metadata": {},
   "outputs": [],
   "source": []
  },
  {
   "cell_type": "code",
   "execution_count": null,
   "id": "d65478ea-cacd-4fd3-9627-b90fb73ff803",
   "metadata": {},
   "outputs": [],
   "source": []
  },
  {
   "cell_type": "code",
   "execution_count": null,
   "id": "7855c897-b8d9-4c0c-b1bf-de20e4b0ad58",
   "metadata": {},
   "outputs": [],
   "source": []
  },
  {
   "cell_type": "code",
   "execution_count": null,
   "id": "ff0485cb-8164-49b5-b5d6-218329c28b00",
   "metadata": {
    "scrolled": true
   },
   "outputs": [],
   "source": []
  },
  {
   "cell_type": "code",
   "execution_count": null,
   "id": "087cdd1e-d4cf-4788-88c5-1c943e29427a",
   "metadata": {},
   "outputs": [],
   "source": []
  },
  {
   "cell_type": "code",
   "execution_count": null,
   "id": "164eba5b-f4de-436c-b1c5-6f890d5b4137",
   "metadata": {},
   "outputs": [],
   "source": [
    "clf_report = classification_report(y_test, y_pred)\n",
    "\n",
    "print(clf_report)"
   ]
  },
  {
   "cell_type": "code",
   "execution_count": null,
   "id": "98a8e4a7-341f-4418-a497-c41f0292d40b",
   "metadata": {},
   "outputs": [],
   "source": []
  }
 ],
 "metadata": {
  "kernelspec": {
   "display_name": "Python 3 (ipykernel)",
   "language": "python",
   "name": "python3"
  },
  "language_info": {
   "codemirror_mode": {
    "name": "ipython",
    "version": 3
   },
   "file_extension": ".py",
   "mimetype": "text/x-python",
   "name": "python",
   "nbconvert_exporter": "python",
   "pygments_lexer": "ipython3",
   "version": "3.10.13"
  }
 },
 "nbformat": 4,
 "nbformat_minor": 5
}
