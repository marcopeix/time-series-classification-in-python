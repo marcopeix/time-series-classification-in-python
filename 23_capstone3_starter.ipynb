{
 "cells": [
  {
   "cell_type": "code",
   "execution_count": null,
   "id": "6206ff70-ea8b-4925-903d-c7abcc9f82f3",
   "metadata": {},
   "outputs": [],
   "source": [
    "import math\n",
    "import numpy as np\n",
    "import pandas as pd\n",
    "import matplotlib.pyplot as plt\n",
    "\n",
    "from sktime.dists_kernels import AggrDist\n",
    "from sktime.datasets import load_UCR_UEA_dataset\n",
    "from sktime.classification.kernel_based import Arsenal, RocketClassifier, TimeSeriesSVC\n",
    "from sktime.classification.interval_based import DrCIF, CanonicalIntervalForest, RandomIntervalSpectralEnsemble\n",
    "\n",
    "from sklearn.gaussian_process.kernels import RBF\n",
    "from sklearn.model_selection import GridSearchCV, KFold\n",
    "from sklearn.metrics import classification_report, precision_recall_fscore_support \n",
    "\n",
    "import warnings\n",
    "warnings.filterwarnings('ignore')"
   ]
  },
  {
   "cell_type": "code",
   "execution_count": null,
   "id": "2fceb6ba-ac41-4449-b77e-e019e6ff1e72",
   "metadata": {},
   "outputs": [],
   "source": [
    "X_train, y_train = load_UCR_UEA_dataset(name=\"PLAID\",\n",
    "                                        split='train', \n",
    "                                        return_type=None,\n",
    "                                        extract_path=\"./data\")\n",
    "X_test, y_test = load_UCR_UEA_dataset(name=\"PLAID\",\n",
    "                                      split='test', \n",
    "                                      return_type=None,\n",
    "                                      extract_path='./data')"
   ]
  },
  {
   "cell_type": "code",
   "execution_count": null,
   "id": "81e4080a-5821-40e1-95ef-74ef3c920cd0",
   "metadata": {},
   "outputs": [],
   "source": [
    "X_train.head()"
   ]
  },
  {
   "cell_type": "markdown",
   "id": "ed971907-326f-4b8a-a04c-fc07bebfa92f",
   "metadata": {},
   "source": [
    "## Format data as numpy3D"
   ]
  },
  {
   "cell_type": "code",
   "execution_count": null,
   "id": "c9e24ce0-155f-443d-bf87-01b8f33c45a0",
   "metadata": {},
   "outputs": [],
   "source": []
  },
  {
   "cell_type": "code",
   "execution_count": null,
   "id": "b2ab7dcd-1620-45aa-8e4c-f0c9298523fb",
   "metadata": {},
   "outputs": [],
   "source": []
  },
  {
   "cell_type": "code",
   "execution_count": null,
   "id": "ea00af1a-37be-4c65-ad09-c3d3b7774850",
   "metadata": {},
   "outputs": [],
   "source": [
    "y_train_plotting = pd.Series(y_train)\n",
    "\n",
    "fig, axes = plt.subplots(3, 4, figsize=(20,15))\n",
    "axes = axes.flatten()\n",
    "\n",
    "for i, label in enumerate(sorted(y_train_plotting.unique())):\n",
    "    idx = y_train_plotting[y_train_plotting == label].index[0]\n",
    "\n",
    "    data = X_train[idx, 0, :]\n",
    "\n",
    "    axes[i].plot(data)\n",
    "    axes[i].set_title(f\"Class: {label}\")\n",
    "    axes[i].set_xlabel('Timesteps')\n",
    "    axes[i].set_ylabel('Electrical Load')\n",
    "\n",
    "fig.delaxes(axes[-1])\n",
    "plt.tight_layout()"
   ]
  },
  {
   "cell_type": "markdown",
   "id": "86d8e066-c850-4987-8200-d7ad4ab66618",
   "metadata": {},
   "source": [
    "## RISE"
   ]
  },
  {
   "cell_type": "code",
   "execution_count": null,
   "id": "0845fbd1-03be-4e18-88b9-7dc7547dcab7",
   "metadata": {},
   "outputs": [],
   "source": [
    "%%time\n",
    "\n",
    "\n",
    "clf_report = classification_report(y_test, y_pred)\n",
    "\n",
    "_, _, rise_fscore, _ = precision_recall_fscore_support(y_test, y_pred, average='weighted')\n",
    "\n",
    "print(clf_report)"
   ]
  },
  {
   "cell_type": "markdown",
   "id": "f3420c9d-fa6a-44b9-9e59-f96ed7973f93",
   "metadata": {},
   "source": [
    "## CIF"
   ]
  },
  {
   "cell_type": "code",
   "execution_count": null,
   "id": "37bdff88-5b82-44e8-8683-2038fb5db1bd",
   "metadata": {},
   "outputs": [],
   "source": [
    "%%time\n",
    "\n",
    "\n",
    "clf_report = classification_report(y_test, y_pred)\n",
    "\n",
    "_, _, cif_fscore, _ = precision_recall_fscore_support(y_test, y_pred, average='weighted')\n",
    "\n",
    "print(clf_report)"
   ]
  },
  {
   "cell_type": "markdown",
   "id": "04c366d3-d827-4033-a733-2f1e652d02e6",
   "metadata": {},
   "source": [
    "## DrCIF"
   ]
  },
  {
   "cell_type": "code",
   "execution_count": null,
   "id": "7d59fc55-eefe-4230-a93c-8a7399f87823",
   "metadata": {},
   "outputs": [],
   "source": [
    "%%time\n",
    "\n",
    "\n",
    "clf_report = classification_report(y_test, y_pred)\n",
    "\n",
    "_, _, drcif_fscore, _ = precision_recall_fscore_support(y_test, y_pred, average='weighted')\n",
    "\n",
    "print(clf_report)"
   ]
  },
  {
   "cell_type": "markdown",
   "id": "6fd79394-c5c5-4ce2-89e3-381b20782dc6",
   "metadata": {},
   "source": [
    "## SVC"
   ]
  },
  {
   "cell_type": "code",
   "execution_count": null,
   "id": "8fae99a6-a331-4d78-8cdf-0d62b7acc3f3",
   "metadata": {},
   "outputs": [],
   "source": [
    "%%time\n",
    "\n",
    "clf_report = classification_report(y_test, y_pred)\n",
    "\n",
    "_, _, svc_fscore, _ = precision_recall_fscore_support(y_test, y_pred, average='weighted')\n",
    "\n",
    "print(clf_report)"
   ]
  },
  {
   "cell_type": "markdown",
   "id": "ccfe36cf-4458-4963-af21-1a5b52af2330",
   "metadata": {},
   "source": [
    "## Rocket"
   ]
  },
  {
   "cell_type": "code",
   "execution_count": null,
   "id": "88d76008-6096-42bb-8650-03c6d5bda488",
   "metadata": {},
   "outputs": [],
   "source": [
    "%%time\n",
    "\n",
    "clf_report = classification_report(y_test, y_pred)\n",
    "\n",
    "_, _, rocket_fscore, _ = precision_recall_fscore_support(y_test, y_pred, average='weighted')\n",
    "\n",
    "print(clf_report)"
   ]
  },
  {
   "cell_type": "markdown",
   "id": "54a3989f-a116-4c87-8cb4-9e9bcf476626",
   "metadata": {},
   "source": [
    "## Arsenal"
   ]
  },
  {
   "cell_type": "code",
   "execution_count": null,
   "id": "b104fb2d-5610-43e9-9973-73f9db2c1187",
   "metadata": {},
   "outputs": [],
   "source": [
    "%%time\n",
    "\n",
    "\n",
    "clf_report = classification_report(y_test, y_pred)\n",
    "\n",
    "_, _, arsenal_fscore, _ = precision_recall_fscore_support(y_test, y_pred, average='weighted')\n",
    "\n",
    "print(clf_report)"
   ]
  },
  {
   "cell_type": "markdown",
   "id": "87a89231-41b7-43e3-a0f5-e024e7856140",
   "metadata": {},
   "source": [
    "## Evaluation"
   ]
  },
  {
   "cell_type": "code",
   "execution_count": null,
   "id": "d48077c7-7406-43b5-8b37-89e9f8788feb",
   "metadata": {},
   "outputs": [],
   "source": [
    "x = ['RISE', 'CIF', 'DrCIF', 'SVC', 'Rocket', 'Arsenal']\n",
    "y = [rise_fscore, cif_fscore, drcif_fscore, svc_fscore, rocket_fscore, arsenal_fscore]\n",
    "y = np.around(y,2).tolist()\n",
    "\n",
    "fig, ax = plt.subplots()\n",
    "ax.bar(x, y)\n",
    "ax.set_xlabel('Model')\n",
    "ax.set_ylabel('F1-Score (weighted)')\n",
    "ax.set_ylim(0, 1)\n",
    "\n",
    "for i, v in enumerate(y):\n",
    "    ax.text(x=i, y=v+0.02, s=str(v), ha='center')\n",
    "\n",
    "plt.tight_layout()"
   ]
  },
  {
   "cell_type": "code",
   "execution_count": null,
   "id": "eaad44a9-1161-43ec-b4b1-ba5ae8ae3872",
   "metadata": {},
   "outputs": [],
   "source": []
  }
 ],
 "metadata": {
  "kernelspec": {
   "display_name": "Python 3 (ipykernel)",
   "language": "python",
   "name": "python3"
  },
  "language_info": {
   "codemirror_mode": {
    "name": "ipython",
    "version": 3
   },
   "file_extension": ".py",
   "mimetype": "text/x-python",
   "name": "python",
   "nbconvert_exporter": "python",
   "pygments_lexer": "ipython3",
   "version": "3.10.13"
  }
 },
 "nbformat": 4,
 "nbformat_minor": 5
}
