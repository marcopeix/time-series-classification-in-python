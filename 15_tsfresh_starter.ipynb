{
 "cells": [
  {
   "cell_type": "code",
   "execution_count": null,
   "id": "b384c3d3-0d12-4afd-9a7a-abafa771a176",
   "metadata": {},
   "outputs": [],
   "source": [
    "import warnings\n",
    "warnings.filterwarnings('ignore')\n",
    "\n",
    "import pandas as pd\n",
    "import numpy as np\n",
    "import matplotlib.pyplot as plt\n",
    "\n",
    "from sktime.datasets import load_basic_motions\n",
    "\n",
    "from sklearn.metrics import accuracy_score\n",
    "\n",
    "X, y = load_basic_motions(return_type='pd-multiindex')"
   ]
  },
  {
   "cell_type": "markdown",
   "id": "79ce7108-40b9-4e56-8388-5822d1dd4e8f",
   "metadata": {},
   "source": [
    "## Format data"
   ]
  },
  {
   "cell_type": "code",
   "execution_count": null,
   "id": "f687705e-c8a4-4bc1-afee-7b9fb95221b0",
   "metadata": {},
   "outputs": [],
   "source": []
  },
  {
   "cell_type": "code",
   "execution_count": null,
   "id": "cd8f1319-5153-42d6-b33c-31dc13fdf71d",
   "metadata": {},
   "outputs": [],
   "source": []
  },
  {
   "cell_type": "markdown",
   "id": "e8a222e3-8ee8-46d7-92d8-a4d8d959c12e",
   "metadata": {},
   "source": [
    "## Compute features"
   ]
  },
  {
   "cell_type": "code",
   "execution_count": null,
   "id": "06f987d9-c0bc-41ea-92cf-83b4c8778419",
   "metadata": {},
   "outputs": [],
   "source": []
  },
  {
   "cell_type": "code",
   "execution_count": null,
   "id": "9af6a5b6-2c57-4574-a7e1-890715720aad",
   "metadata": {},
   "outputs": [],
   "source": []
  },
  {
   "cell_type": "code",
   "execution_count": null,
   "id": "cb12b900-512d-4bea-b9a1-56ab3d06abdf",
   "metadata": {},
   "outputs": [],
   "source": []
  },
  {
   "cell_type": "markdown",
   "id": "785c8542-6f68-4d1f-9a48-d9a80f44ca06",
   "metadata": {},
   "source": [
    "## Train model using all features"
   ]
  },
  {
   "cell_type": "code",
   "execution_count": null,
   "id": "6e729a01-1ad1-49fe-b2df-0a3dae3eb128",
   "metadata": {},
   "outputs": [],
   "source": [
    "from sklearn.model_selection import train_test_split\n",
    "from sklearn.neighbors import KNeighborsClassifier\n",
    "\n"
   ]
  },
  {
   "cell_type": "markdown",
   "id": "61324d2f-22e7-4b3f-a2d3-e4ef326f9c9c",
   "metadata": {},
   "source": [
    "## Filter features"
   ]
  },
  {
   "cell_type": "code",
   "execution_count": null,
   "id": "53d83a67-305d-4e05-9d8e-dd54ab19581e",
   "metadata": {},
   "outputs": [],
   "source": []
  },
  {
   "cell_type": "code",
   "execution_count": null,
   "id": "6de0b550-0780-411d-831c-7df144930291",
   "metadata": {},
   "outputs": [],
   "source": []
  },
  {
   "cell_type": "code",
   "execution_count": null,
   "id": "bc7fde4b-cf71-4f90-b2c6-005372455388",
   "metadata": {},
   "outputs": [],
   "source": []
  },
  {
   "cell_type": "markdown",
   "id": "3b9a4476-6780-4c4f-95c4-1089c057ab0c",
   "metadata": {},
   "source": [
    "## Another way of filtering features for multiclass scenarios"
   ]
  },
  {
   "cell_type": "code",
   "execution_count": null,
   "id": "71cba02f-74b5-480d-ac34-699fee7921a6",
   "metadata": {},
   "outputs": [],
   "source": [
    "# The parameter n_significant specifies the number of classes for which a feature\n",
    "# must be significant to be kept\n",
    "\n"
   ]
  },
  {
   "cell_type": "code",
   "execution_count": null,
   "id": "adee9411-b26d-429c-b484-1b9f230a2668",
   "metadata": {},
   "outputs": [],
   "source": []
  }
 ],
 "metadata": {
  "kernelspec": {
   "display_name": "Python 3 (ipykernel)",
   "language": "python",
   "name": "python3"
  },
  "language_info": {
   "codemirror_mode": {
    "name": "ipython",
    "version": 3
   },
   "file_extension": ".py",
   "mimetype": "text/x-python",
   "name": "python",
   "nbconvert_exporter": "python",
   "pygments_lexer": "ipython3",
   "version": "3.10.13"
  }
 },
 "nbformat": 4,
 "nbformat_minor": 5
}
