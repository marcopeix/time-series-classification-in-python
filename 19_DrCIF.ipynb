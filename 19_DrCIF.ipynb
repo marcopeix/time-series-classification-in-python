{
 "cells": [
  {
   "cell_type": "code",
   "execution_count": 2,
   "id": "38df1c6a-c3bf-42d9-a5a5-f5c51199fb81",
   "metadata": {},
   "outputs": [],
   "source": [
    "import math\n",
    "import numpy as np\n",
    "import pandas as pd\n",
    "import matplotlib.pyplot as plt\n",
    "\n",
    "from sktime.datasets import load_basic_motions\n",
    "\n",
    "from sktime.classification.interval_based import DrCIF\n",
    "\n",
    "from sklearn.metrics import classification_report, precision_recall_fscore_support \n",
    "from sklearn.model_selection import GridSearchCV, KFold\n",
    "\n",
    "import warnings\n",
    "warnings.filterwarnings('ignore')\n",
    "\n",
    "X_train, y_train = load_basic_motions(split='train', return_type='numpy3D')\n",
    "X_test, y_test = load_basic_motions(split='test', return_type='numpy3D')"
   ]
  },
  {
   "cell_type": "markdown",
   "id": "992eac9e-3337-42a3-8785-65aaa70e2f79",
   "metadata": {},
   "source": [
    "## Diverse Representation Canonical Interval Forest (DrCIF)"
   ]
  },
  {
   "cell_type": "code",
   "execution_count": 27,
   "id": "1a7b226a-9e13-439f-8218-8e6be68db525",
   "metadata": {},
   "outputs": [
    {
     "name": "stdout",
     "output_type": "stream",
     "text": [
      "{'n_estimators': 3}\n",
      "              precision    recall  f1-score   support\n",
      "\n",
      "   badminton       1.00      1.00      1.00        10\n",
      "     running       1.00      1.00      1.00        10\n",
      "    standing       0.91      1.00      0.95        10\n",
      "     walking       1.00      0.90      0.95        10\n",
      "\n",
      "    accuracy                           0.97        40\n",
      "   macro avg       0.98      0.97      0.97        40\n",
      "weighted avg       0.98      0.97      0.97        40\n",
      "\n"
     ]
    }
   ],
   "source": [
    "drcif = DrCIF(\n",
    "    n_estimators=5,\n",
    "    n_intervals=2,        # Number of intervals per representation, per tree\n",
    "    att_subsample_size=8, # Number of Catch22 features\n",
    "    min_interval=3,\n",
    "    max_interval=None,    # Default is half of series length\n",
    "    base_estimator=\"CIT\",\n",
    "    n_jobs=-1,\n",
    "    random_state=42\n",
    ")\n",
    "\n",
    "params = {\n",
    "    \"n_estimators\": [1, 2, 3, 4, 5]\n",
    "}\n",
    "\n",
    "tuned_drcif = GridSearchCV(\n",
    "    drcif,\n",
    "    params,\n",
    "    cv=KFold(n_splits=10)\n",
    ")\n",
    "\n",
    "tuned_drcif.fit(X_train, y_train)\n",
    "y_pred = tuned_drcif.predict(X_test)\n",
    "\n",
    "clf_report = classification_report(y_test, y_pred)\n",
    "\n",
    "precision, recall, fscore, _ = precision_recall_fscore_support(y_test, y_pred, average='weighted')\n",
    "\n",
    "print(tuned_drcif.best_params_)\n",
    "print(clf_report)"
   ]
  },
  {
   "cell_type": "code",
   "execution_count": null,
   "id": "05127da3-33fa-455c-b7d1-9a0c42fbbad0",
   "metadata": {},
   "outputs": [],
   "source": []
  }
 ],
 "metadata": {
  "kernelspec": {
   "display_name": "Python 3 (ipykernel)",
   "language": "python",
   "name": "python3"
  },
  "language_info": {
   "codemirror_mode": {
    "name": "ipython",
    "version": 3
   },
   "file_extension": ".py",
   "mimetype": "text/x-python",
   "name": "python",
   "nbconvert_exporter": "python",
   "pygments_lexer": "ipython3",
   "version": "3.10.13"
  }
 },
 "nbformat": 4,
 "nbformat_minor": 5
}
