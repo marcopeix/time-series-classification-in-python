{
 "cells": [
  {
   "cell_type": "code",
   "execution_count": null,
   "id": "53ea99c9-3ef0-4192-a6cb-4d598046cc5b",
   "metadata": {},
   "outputs": [],
   "source": [
    "import warnings\n",
    "warnings.filterwarnings('ignore')\n",
    "\n",
    "import pandas as pd\n",
    "import numpy as np\n",
    "import matplotlib.pyplot as plt\n",
    "\n",
    "from sktime.datasets import load_basic_motions\n",
    "\n",
    "from sklearn.metrics import accuracy_score\n",
    "\n",
    "X_train, y_train = load_basic_motions(split='train', return_type='numpy3D')\n",
    "X_test, y_test = load_basic_motions(split='test', return_type='numpy3D')"
   ]
  },
  {
   "cell_type": "code",
   "execution_count": null,
   "id": "11b1be61-19e2-4906-bd51-6d016820fa62",
   "metadata": {
    "scrolled": true
   },
   "outputs": [],
   "source": [
    "series_indices = [0, 10, 20, 30]\n",
    "categories = ['standing', 'running', 'walking', 'badminton']\n",
    "features = [\"accel_1\", \"accel_2\", \"accel_3\", \"gyro_1\", \"gyro_2\", \"gyro_3\"]\n",
    "\n",
    "selected_series = X_train[series_indices]\n",
    "\n",
    "fig, axes = plt.subplots(4, 1, figsize=(10, 18))\n",
    "\n",
    "for i in range(4):  \n",
    "    for j in range(selected_series.shape[1]):\n",
    "        axes[i].plot(selected_series[i, j], label=features[j])\n",
    "\n",
    "    axes[i].set_title(f\"Category: {categories[i]}\")\n",
    "    axes[i].set_xlabel(\"Time Steps\")\n",
    "    axes[i].set_ylabel(\"Values\")\n",
    "    axes[i].legend()\n",
    "\n",
    "plt.tight_layout()\n",
    "plt.show()"
   ]
  },
  {
   "cell_type": "markdown",
   "id": "08796e79-7f1b-4c65-a2f4-022df9056ab4",
   "metadata": {},
   "source": [
    "## Summary classifier"
   ]
  },
  {
   "cell_type": "code",
   "execution_count": null,
   "id": "680d625f-be81-4c0b-9517-095917f21850",
   "metadata": {},
   "outputs": [],
   "source": [
    "from sktime.classification.feature_based import SummaryClassifier\n",
    "\n",
    "from sklearn.ensemble import RandomForestClassifier\n",
    "from sklearn.neighbors import KNeighborsClassifier\n",
    "from sklearn.ensemble import AdaBoostClassifier\n",
    "from sklearn.svm import SVC\n",
    "\n",
    "# Empty list to store accuracy for each model\n",
    "accuracies = []\n",
    "\n",
    "# Initialize all models\n",
    "\n",
    "# Create a list of classifiers\n",
    "\n",
    "\n",
    "# Use each algorithm in the SummaryClassifier\n"
   ]
  },
  {
   "cell_type": "code",
   "execution_count": null,
   "id": "fac922b5-c589-4b65-810d-d3069d88ba35",
   "metadata": {},
   "outputs": [],
   "source": [
    "x = ['KNN', 'AdaBoost', 'Random Forest', 'SVC']\n",
    "\n",
    "fig, ax = plt.subplots()\n",
    "ax.bar(x, accuracies)\n",
    "ax.set_xlabel('Model')\n",
    "ax.set_ylabel('Accuracy (%)')\n",
    "\n",
    "for i, v in enumerate(accuracies):\n",
    "    ax.text(x=i, y=v+1, s=str(v), ha='center')\n",
    "\n",
    "plt.tight_layout()"
   ]
  },
  {
   "cell_type": "code",
   "execution_count": null,
   "id": "d9970fd2-6547-460c-a6ac-4c03806ee375",
   "metadata": {},
   "outputs": [],
   "source": []
  }
 ],
 "metadata": {
  "kernelspec": {
   "display_name": "Python 3 (ipykernel)",
   "language": "python",
   "name": "python3"
  },
  "language_info": {
   "codemirror_mode": {
    "name": "ipython",
    "version": 3
   },
   "file_extension": ".py",
   "mimetype": "text/x-python",
   "name": "python",
   "nbconvert_exporter": "python",
   "pygments_lexer": "ipython3",
   "version": "3.10.13"
  }
 },
 "nbformat": 4,
 "nbformat_minor": 5
}
