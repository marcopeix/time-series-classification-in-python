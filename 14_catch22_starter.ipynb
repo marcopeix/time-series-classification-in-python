{
 "cells": [
  {
   "cell_type": "code",
   "execution_count": null,
   "id": "a511e47e-34dc-407e-a078-0d2912196cd0",
   "metadata": {},
   "outputs": [],
   "source": [
    "import warnings\n",
    "warnings.filterwarnings('ignore')\n",
    "\n",
    "import pandas as pd\n",
    "import numpy as np\n",
    "import matplotlib.pyplot as plt\n",
    "\n",
    "from sktime.datasets import load_basic_motions\n",
    "\n",
    "from sklearn.metrics import accuracy_score\n",
    "\n",
    "X_train, y_train = load_basic_motions(split='train', return_type='numpy3D')\n",
    "X_test, y_test = load_basic_motions(split='test', return_type='numpy3D')"
   ]
  },
  {
   "cell_type": "code",
   "execution_count": null,
   "id": "7b42ee8e-3183-4a79-b824-895975b6c763",
   "metadata": {
    "scrolled": true
   },
   "outputs": [],
   "source": [
    "series_indices = [0, 10, 20, 30]\n",
    "categories = ['standing', 'running', 'walking', 'badminton']\n",
    "features = [\"accel_1\", \"accel_2\", \"accel_3\", \"gyro_1\", \"gyro_2\", \"gyro_3\"]\n",
    "\n",
    "selected_series = X_train[series_indices]\n",
    "\n",
    "fig, axes = plt.subplots(4, 1, figsize=(10, 18))\n",
    "\n",
    "for i in range(4):  \n",
    "    for j in range(selected_series.shape[1]):\n",
    "        axes[i].plot(selected_series[i, j], label=features[j])\n",
    "\n",
    "    axes[i].set_title(f\"Category: {categories[i]}\")\n",
    "    axes[i].set_xlabel(\"Time Steps\")\n",
    "    axes[i].set_ylabel(\"Values\")\n",
    "    axes[i].legend()\n",
    "\n",
    "plt.tight_layout()\n",
    "plt.show()"
   ]
  },
  {
   "cell_type": "markdown",
   "id": "1f2c6180-528f-40aa-bc39-77def007a3dd",
   "metadata": {},
   "source": [
    "## Catch22"
   ]
  },
  {
   "cell_type": "code",
   "execution_count": null,
   "id": "e803afbd-1134-47b0-a40b-470fe0166dca",
   "metadata": {},
   "outputs": [],
   "source": [
    "from sktime.classification.feature_based import Catch22Classifier\n",
    "\n",
    "from sklearn.neighbors import KNeighborsClassifier\n",
    "from sklearn.ensemble import AdaBoostClassifier\n",
    "from sklearn.ensemble import RandomForestClassifier\n",
    "from sklearn.svm import SVC\n",
    "\n",
    "accuracies = []\n",
    "\n",
    "knn_clf = KNeighborsClassifier(n_neighbors=1)\n",
    "ada_clf = AdaBoostClassifier(n_estimators=10, random_state=42)\n",
    "rf_clf = RandomForestClassifier(n_estimators=10, random_state=42)\n",
    "svc_clf = SVC()\n",
    "\n",
    "classifiers = [knn_clf, ada_clf, rf_clf, svc_clf]\n",
    "\n",
    "# For loop to run Catch22 with all algorithms\n"
   ]
  },
  {
   "cell_type": "code",
   "execution_count": null,
   "id": "990f62ba-e415-442b-ac1e-31977a8e0170",
   "metadata": {},
   "outputs": [],
   "source": [
    "x = ['KNN', 'AdaBoost', 'Random Forest', 'SVC']\n",
    "\n",
    "fig, ax = plt.subplots()\n",
    "ax.bar(x, accuracies)\n",
    "ax.set_xlabel('Model')\n",
    "ax.set_ylabel('Accuracy (%)')\n",
    "\n",
    "for i, v in enumerate(accuracies):\n",
    "    ax.text(x=i, y=v+1, s=str(v), ha='center')\n",
    "\n",
    "plt.tight_layout()"
   ]
  },
  {
   "cell_type": "code",
   "execution_count": null,
   "id": "f0ba8644-0b56-48ff-96a1-3ff350d03dd3",
   "metadata": {},
   "outputs": [],
   "source": []
  }
 ],
 "metadata": {
  "kernelspec": {
   "display_name": "Python 3 (ipykernel)",
   "language": "python",
   "name": "python3"
  },
  "language_info": {
   "codemirror_mode": {
    "name": "ipython",
    "version": 3
   },
   "file_extension": ".py",
   "mimetype": "text/x-python",
   "name": "python",
   "nbconvert_exporter": "python",
   "pygments_lexer": "ipython3",
   "version": "3.10.13"
  }
 },
 "nbformat": 4,
 "nbformat_minor": 5
}
