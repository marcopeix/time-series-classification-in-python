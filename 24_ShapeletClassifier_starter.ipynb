{
 "cells": [
  {
   "cell_type": "code",
   "execution_count": null,
   "id": "972edb2b-5179-43ef-8e94-95eedfc36bed",
   "metadata": {},
   "outputs": [],
   "source": [
    "import math\n",
    "import numpy as np\n",
    "import pandas as pd\n",
    "import matplotlib.pyplot as plt\n",
    "\n",
    "from sktime.datasets import load_UCR_UEA_dataset\n",
    "from sktime.classification.shapelet_based import ShapeletTransformClassifier\n",
    "\n",
    "from sklearn.metrics import classification_report, precision_recall_fscore_support \n",
    "\n",
    "import warnings\n",
    "warnings.filterwarnings('ignore')"
   ]
  },
  {
   "cell_type": "code",
   "execution_count": null,
   "id": "73f5ac62-3ad7-462b-9986-1be5552af64a",
   "metadata": {},
   "outputs": [],
   "source": [
    "X_train, y_train = load_UCR_UEA_dataset(name=\"Strawberry\",\n",
    "                                        split='train', \n",
    "                                        return_type='numpy3D',\n",
    "                                        extract_path=\"./data\")\n",
    "X_test, y_test = load_UCR_UEA_dataset(name=\"Strawberry\",\n",
    "                                      split='test', \n",
    "                                      return_type='numpy3D',\n",
    "                                      extract_path='./data')"
   ]
  },
  {
   "cell_type": "code",
   "execution_count": null,
   "id": "181081a4-89fc-4816-890f-34b24700533a",
   "metadata": {},
   "outputs": [],
   "source": [
    "print(X_train.shape, y_train.shape)\n",
    "print(X_test.shape, y_test.shape)"
   ]
  },
  {
   "cell_type": "code",
   "execution_count": null,
   "id": "bf1adfd0-5751-4780-9136-5f1de5f2dab6",
   "metadata": {},
   "outputs": [],
   "source": [
    "def find_instance_with_label(X, y, label):\n",
    "    indices = np.where(y == label)[0]\n",
    "    if len(indices) == 0:\n",
    "        raise ValueError(f\"No instance found with label {label}\")\n",
    "    instance = X[indices[0]]\n",
    "    \n",
    "    return instance\n",
    "\n",
    "instance_label_1 = find_instance_with_label(X_train, y_train, '1')\n",
    "instance_label_2 = find_instance_with_label(X_train, y_train, '2')\n",
    "\n",
    "fig, (ax1, ax2) = plt.subplots(2, 1, figsize=(10, 8), sharex=True)\n",
    "\n",
    "lines1 = ax1.plot(instance_label_1.T)\n",
    "ax1.set_ylabel(\"Value\")\n",
    "ax1.set_title(\"Instance with Label 1\")\n",
    "\n",
    "lines2 = ax2.plot(instance_label_2.T)\n",
    "ax2.set_xlabel(\"Timestep\")\n",
    "ax2.set_ylabel(\"Value\")\n",
    "ax2.set_title(\"Instance with Label 2\")\n",
    "\n",
    "plt.tight_layout()\n",
    "plt.show()"
   ]
  },
  {
   "cell_type": "markdown",
   "id": "3553ceee-1a2d-4241-bd82-c0836ac034bb",
   "metadata": {},
   "source": [
    "## Visualizing the shapelet transform"
   ]
  },
  {
   "cell_type": "code",
   "execution_count": null,
   "id": "fa10073b-6d43-4553-a2cc-160678284ea8",
   "metadata": {},
   "outputs": [],
   "source": [
    "from pyts.transformation import ShapeletTransform"
   ]
  },
  {
   "cell_type": "code",
   "execution_count": null,
   "id": "3d84d8e8-8256-4195-8d05-8f5f50a73742",
   "metadata": {},
   "outputs": [],
   "source": []
  },
  {
   "cell_type": "code",
   "execution_count": null,
   "id": "88515e68-9ac7-4ca9-a958-fa48bf8439d3",
   "metadata": {
    "scrolled": true
   },
   "outputs": [],
   "source": []
  },
  {
   "cell_type": "code",
   "execution_count": null,
   "id": "05145761-2e2c-4b0c-9692-b52a50e9757d",
   "metadata": {},
   "outputs": [],
   "source": [
    "fig, axs = plt.subplots(2, 2, figsize=(12, 8))\n",
    "fig.suptitle('The four most discriminative shapelets', fontsize=16)\n",
    "\n",
    "for i, index in enumerate(st.indices_[:4]):\n",
    "    idx, start, end = index\n",
    "    row = i // 2\n",
    "    col = i % 2\n",
    "    \n",
    "    # Plot the full time series\n",
    "    axs[row, col].plot(X_train_squeezed[idx], color='C{}'.format(i),\n",
    "                       label='Full series')\n",
    "    \n",
    "    # Plot the shapelet\n",
    "    axs[row, col].plot(np.arange(start, end), X_train_squeezed[idx, start:end],\n",
    "                       lw=5, color='C{}'.format(i), label='Shapelet')\n",
    "    \n",
    "    axs[row, col].set_title(f'Sample {idx}')\n",
    "    axs[row, col].set_xlabel('Time')\n",
    "    axs[row, col].set_ylabel('Value')\n",
    "    axs[row, col].legend(loc='best')\n",
    "\n",
    "plt.tight_layout()\n",
    "plt.show()"
   ]
  },
  {
   "cell_type": "markdown",
   "id": "105282c0-8d97-4e7d-90ad-bb48c1413624",
   "metadata": {},
   "source": [
    "## Shapelet classifier"
   ]
  },
  {
   "cell_type": "code",
   "execution_count": null,
   "id": "51404c99-3133-4f2d-b5f4-8c094df8b086",
   "metadata": {},
   "outputs": [],
   "source": [
    "%%time\n",
    "\n",
    "\n",
    "\n",
    "clf.fit(X_train, y_train)\n",
    "y_pred = clf.predict(X_test)\n",
    "\n",
    "clf_report = classification_report(y_test, y_pred)\n",
    "\n",
    "print(clf_report)"
   ]
  },
  {
   "cell_type": "code",
   "execution_count": null,
   "id": "ec942e6b-6d2b-4093-bc8f-c4bb3f1275ab",
   "metadata": {},
   "outputs": [],
   "source": []
  }
 ],
 "metadata": {
  "kernelspec": {
   "display_name": "Python 3 (ipykernel)",
   "language": "python",
   "name": "python3"
  },
  "language_info": {
   "codemirror_mode": {
    "name": "ipython",
    "version": 3
   },
   "file_extension": ".py",
   "mimetype": "text/x-python",
   "name": "python",
   "nbconvert_exporter": "python",
   "pygments_lexer": "ipython3",
   "version": "3.10.13"
  }
 },
 "nbformat": 4,
 "nbformat_minor": 5
}
